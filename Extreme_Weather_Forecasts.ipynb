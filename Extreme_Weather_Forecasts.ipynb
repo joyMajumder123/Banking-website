{
  "metadata": {
    "kernelspec": {
      "language": "python",
      "display_name": "Python 3",
      "name": "python3"
    },
    "language_info": {
      "pygments_lexer": "ipython3",
      "nbconvert_exporter": "python",
      "version": "3.6.4",
      "file_extension": ".py",
      "codemirror_mode": {
        "name": "ipython",
        "version": 3
      },
      "name": "python",
      "mimetype": "text/x-python"
    },
    "colab": {
      "provenance": [],
      "include_colab_link": true
    }
  },
  "nbformat_minor": 0,
  "nbformat": 4,
  "cells": [
    {
      "cell_type": "markdown",
      "metadata": {
        "id": "view-in-github",
        "colab_type": "text"
      },
      "source": [
        "<a href=\"https://colab.research.google.com/github/joyMajumder123/Banking-website/blob/main/Extreme_Weather_Forecasts.ipynb\" target=\"_parent\"><img src=\"https://colab.research.google.com/assets/colab-badge.svg\" alt=\"Open In Colab\"/></a>"
      ]
    },
    {
      "source": [
        "\n",
        "# IMPORTANT: RUN THIS CELL IN ORDER TO IMPORT YOUR KAGGLE DATA SOURCES\n",
        "# TO THE CORRECT LOCATION (/kaggle/input) IN YOUR NOTEBOOK,\n",
        "# THEN FEEL FREE TO DELETE THIS CELL.\n",
        "# NOTE: THIS NOTEBOOK ENVIRONMENT DIFFERS FROM KAGGLE'S PYTHON\n",
        "# ENVIRONMENT SO THERE MAY BE MISSING LIBRARIES USED BY YOUR\n",
        "# NOTEBOOK.\n",
        "\n",
        "import os\n",
        "import sys\n",
        "from tempfile import NamedTemporaryFile\n",
        "from urllib.request import urlopen\n",
        "from urllib.parse import unquote, urlparse\n",
        "from urllib.error import HTTPError\n",
        "from zipfile import ZipFile\n",
        "import tarfile\n",
        "import shutil\n",
        "\n",
        "CHUNK_SIZE = 40960\n",
        "DATA_SOURCE_MAPPING = 'widsdatathon2023:https%3A%2F%2Fstorage.googleapis.com%2Fkaggle-competitions-data%2Fkaggle-v2%2F43454%2F4872828%2Fbundle%2Farchive.zip%3FX-Goog-Algorithm%3DGOOG4-RSA-SHA256%26X-Goog-Credential%3Dgcp-kaggle-com%2540kaggle-161607.iam.gserviceaccount.com%252F20240422%252Fauto%252Fstorage%252Fgoog4_request%26X-Goog-Date%3D20240422T154344Z%26X-Goog-Expires%3D259200%26X-Goog-SignedHeaders%3Dhost%26X-Goog-Signature%3D1208f33bf279ad8c34f0cb6df7ff2fad13d4dcb0678bf53e95fab4f4c12640dccbdb64fd280201b20d4c54f80dfb076ce06c3eefbfff6a1e92cb289a0bab375501d4bd51b5b980f25561633d83f3b534d13ca6b3e03b0b74a2612aa516908d04592e0b64dddc87b90594e6fe224dd1fe827f4cad78524a04d9c5cf4f5ce11fe3cfbbf15bdf229c8eeed2ff3bd53f13cdcd068ffde15000702c080ad2ab7b9c5a61a5d61e24b5153bb53208d2891ad7414321cc60b41b9e4f8e16027180e3f96da58e80d816af9bff29233136b2caba4275af5adff2d0baecbd1a010e2a25a3a019d8283fe93d169cf57681b5cfe942621d10ff8cfc06ba36373e4f7ec5e3fb79'\n",
        "\n",
        "KAGGLE_INPUT_PATH='/kaggle/input'\n",
        "KAGGLE_WORKING_PATH='/kaggle/working'\n",
        "KAGGLE_SYMLINK='kaggle'\n",
        "\n",
        "!umount /kaggle/input/ 2> /dev/null\n",
        "shutil.rmtree('/kaggle/input', ignore_errors=True)\n",
        "os.makedirs(KAGGLE_INPUT_PATH, 0o777, exist_ok=True)\n",
        "os.makedirs(KAGGLE_WORKING_PATH, 0o777, exist_ok=True)\n",
        "\n",
        "try:\n",
        "  os.symlink(KAGGLE_INPUT_PATH, os.path.join(\"..\", 'input'), target_is_directory=True)\n",
        "except FileExistsError:\n",
        "  pass\n",
        "try:\n",
        "  os.symlink(KAGGLE_WORKING_PATH, os.path.join(\"..\", 'working'), target_is_directory=True)\n",
        "except FileExistsError:\n",
        "  pass\n",
        "\n",
        "for data_source_mapping in DATA_SOURCE_MAPPING.split(','):\n",
        "    directory, download_url_encoded = data_source_mapping.split(':')\n",
        "    download_url = unquote(download_url_encoded)\n",
        "    filename = urlparse(download_url).path\n",
        "    destination_path = os.path.join(KAGGLE_INPUT_PATH, directory)\n",
        "    try:\n",
        "        with urlopen(download_url) as fileres, NamedTemporaryFile() as tfile:\n",
        "            total_length = fileres.headers['content-length']\n",
        "            print(f'Downloading {directory}, {total_length} bytes compressed')\n",
        "            dl = 0\n",
        "            data = fileres.read(CHUNK_SIZE)\n",
        "            while len(data) > 0:\n",
        "                dl += len(data)\n",
        "                tfile.write(data)\n",
        "                done = int(50 * dl / int(total_length))\n",
        "                sys.stdout.write(f\"\\r[{'=' * done}{' ' * (50-done)}] {dl} bytes downloaded\")\n",
        "                sys.stdout.flush()\n",
        "                data = fileres.read(CHUNK_SIZE)\n",
        "            if filename.endswith('.zip'):\n",
        "              with ZipFile(tfile) as zfile:\n",
        "                zfile.extractall(destination_path)\n",
        "            else:\n",
        "              with tarfile.open(tfile.name) as tarfile:\n",
        "                tarfile.extractall(destination_path)\n",
        "            print(f'\\nDownloaded and uncompressed: {directory}')\n",
        "    except HTTPError as e:\n",
        "        print(f'Failed to load (likely expired) {download_url} to path {destination_path}')\n",
        "        continue\n",
        "    except OSError as e:\n",
        "        print(f'Failed to load {download_url} to path {destination_path}')\n",
        "        continue\n",
        "\n",
        "print('Data source import complete.')\n"
      ],
      "metadata": {
        "id": "AxBJHgQgelBv",
        "outputId": "8ac5829b-87ed-43c2-c4ac-837cdc14e6c9",
        "colab": {
          "base_uri": "https://localhost:8080/"
        }
      },
      "cell_type": "code",
      "outputs": [
        {
          "output_type": "stream",
          "name": "stdout",
          "text": [
            "Downloading widsdatathon2023, 213184469 bytes compressed\n",
            "[==================================================] 213184469 bytes downloaded\n",
            "Downloaded and uncompressed: widsdatathon2023\n",
            "Data source import complete.\n"
          ]
        }
      ],
      "execution_count": null
    },
    {
      "cell_type": "markdown",
      "source": [
        "# Women in Data Science (WiDS Datathon) 2023\n",
        "## Adapting to Climate Change by Improving Extreme Weather Forecasts with Machine Learning"
      ],
      "metadata": {
        "id": "Xo4pPfjUelBy"
      }
    },
    {
      "cell_type": "markdown",
      "source": [
        "#### The most of research studies show climate change has led to future warming, and devastating weather is growing more frequent. Extreme weather events event and conditions such as heatwaves, cold spells, heavy precipitation events, and tropical and extratropical cyclones take a significant toll on worldwide human lives, public health, economic prosperity, infrastructure, and ecosystems. Therefore, it is crucial to improve our understanding of extreme weather events and to predict their impacts through accurate frameworks for predicting extreme weather events ahead of time.\n",
        "#### Observing, monitoring, and predicting extreme events and managing their impacts requires an extraordinary amount of information about the state of Earth and how it changes from moment to moment and decade to decade. There are many differences between the various types of extreme weather events. Predicting them requires regional and seasonal knowledge about each component of the climate system, including ocean, atmosphere, sea ice, etc.\n",
        "#### This dataset consists of enormous number of variables related to  Temperature, Precipitation, Sea surface temperature and sea ice concentration, Multivariate ENSO index (MEI), Madden-Julian oscillation (MJO),  Relative humidity, sea level pressure, and precipitable water for the entire atmosphere, Geopotential height, zonal wind, and longitudinal wind, North American Multi-Model Ensemble (NMME), Pressure and potential evaporation, Elevation, and Köppen-Geiger climate classifications."
      ],
      "metadata": {
        "id": "GZw0IQTaelB0"
      }
    },
    {
      "cell_type": "markdown",
      "source": [
        "1. [What to forecast](#1)\n",
        "2. [DataSet](#2)\n",
        "3. [Load the Data](#3)\n",
        "4. [View Data](#4)\n",
        "5. [Handeling missing Data](#5)\n",
        "6. [Analyse the Target Variable](#6)\n",
        "7. [Exploratory Data Analysis](#7)\n",
        "8. [Train | Validation Split](#8)\n",
        "9. [Time Series Split for Cross Validation](#9)\n",
        "10. [Training, Evaluating and Validation](#10)"
      ],
      "metadata": {
        "id": "ax5VSpW1elB0"
      }
    },
    {
      "cell_type": "markdown",
      "source": [
        "<a id=\"1\"></a> <br>\n",
        "# 1. What to forecast/Predict\n",
        "\n",
        "The WiDS Datathon 2023 focuses on a prediction task involving forecasting sub-seasonal temperatures (temperatures over a two-week period) within the United States.\n",
        "\n",
        "<a id=\"2\"></a> <br>\n",
        "# 2. DataSet\n",
        "\n",
        "The dataset has 256 variables, including the unique index and the target variable **\"contest-tmp2m-14d__tmp2m\"**.\n",
        "The data are from 514 locations within 15 climate zones in the United States.\n",
        "The train dataset includes daily data instances between 09/01/2014 - 08/31/2016\n",
        "The dataset includes daily data instances between 11/01/2022 - 12/31/2022 and expected to predict the temperature variable contest-tmp2m-14d__tmp2m.  "
      ],
      "metadata": {
        "id": "Y1mzdJXJelB1"
      }
    },
    {
      "cell_type": "markdown",
      "source": [
        "![1.jpg](attachment:f3dfefa6-aee6-447c-aef3-aa569b200e03.jpg)/)"
      ],
      "metadata": {
        "id": "OBjzl6IEelB1"
      }
    },
    {
      "cell_type": "code",
      "source": [
        "import pandas as pd\n",
        "import numpy as np\n",
        "import matplotlib.pyplot as plt\n",
        "import seaborn as sns\n",
        "import missingno as msno\n",
        "from scipy.stats import norm\n",
        "from scipy import stats\n",
        "import math\n",
        "\n",
        "import warnings\n",
        "warnings.filterwarnings('ignore')\n",
        "%matplotlib inline"
      ],
      "metadata": {
        "execution": {
          "iopub.status.busy": "2023-02-21T22:13:55.987235Z",
          "iopub.execute_input": "2023-02-21T22:13:55.987725Z",
          "iopub.status.idle": "2023-02-21T22:13:56.597307Z",
          "shell.execute_reply.started": "2023-02-21T22:13:55.987603Z",
          "shell.execute_reply": "2023-02-21T22:13:56.596267Z"
        },
        "trusted": true,
        "id": "eNR1HHBOelB1"
      },
      "execution_count": null,
      "outputs": []
    },
    {
      "cell_type": "code",
      "source": [
        "pip install -U feature-engine"
      ],
      "metadata": {
        "execution": {
          "iopub.status.busy": "2023-02-21T22:13:56.599365Z",
          "iopub.execute_input": "2023-02-21T22:13:56.599749Z",
          "iopub.status.idle": "2023-02-21T22:14:08.843143Z",
          "shell.execute_reply.started": "2023-02-21T22:13:56.599713Z",
          "shell.execute_reply": "2023-02-21T22:14:08.8418Z"
        },
        "trusted": true,
        "id": "FWeIsOITelB2",
        "outputId": "7d361714-c1cf-42d6-aa46-3f12304fd755",
        "colab": {
          "base_uri": "https://localhost:8080/"
        }
      },
      "execution_count": null,
      "outputs": [
        {
          "output_type": "stream",
          "name": "stdout",
          "text": [
            "Collecting feature-engine\n",
            "  Downloading feature_engine-1.7.0-py2.py3-none-any.whl (344 kB)\n",
            "\u001b[2K     \u001b[90m━━━━━━━━━━━━━━━━━━━━━━━━━━━━━━━━━━━━━━━━\u001b[0m \u001b[32m344.3/344.3 kB\u001b[0m \u001b[31m2.5 MB/s\u001b[0m eta \u001b[36m0:00:00\u001b[0m\n",
            "\u001b[?25hRequirement already satisfied: numpy>=1.18.2 in /usr/local/lib/python3.10/dist-packages (from feature-engine) (1.25.2)\n",
            "Collecting pandas>=2.2.0 (from feature-engine)\n",
            "  Downloading pandas-2.2.2-cp310-cp310-manylinux_2_17_x86_64.manylinux2014_x86_64.whl (13.0 MB)\n",
            "\u001b[2K     \u001b[90m━━━━━━━━━━━━━━━━━━━━━━━━━━━━━━━━━━━━━━━━\u001b[0m \u001b[32m13.0/13.0 MB\u001b[0m \u001b[31m49.9 MB/s\u001b[0m eta \u001b[36m0:00:00\u001b[0m\n",
            "\u001b[?25hCollecting scikit-learn>=1.4.0 (from feature-engine)\n",
            "  Downloading scikit_learn-1.4.2-cp310-cp310-manylinux_2_17_x86_64.manylinux2014_x86_64.whl (12.1 MB)\n",
            "\u001b[2K     \u001b[90m━━━━━━━━━━━━━━━━━━━━━━━━━━━━━━━━━━━━━━━━\u001b[0m \u001b[32m12.1/12.1 MB\u001b[0m \u001b[31m38.6 MB/s\u001b[0m eta \u001b[36m0:00:00\u001b[0m\n",
            "\u001b[?25hRequirement already satisfied: scipy>=1.4.1 in /usr/local/lib/python3.10/dist-packages (from feature-engine) (1.11.4)\n",
            "Requirement already satisfied: statsmodels>=0.11.1 in /usr/local/lib/python3.10/dist-packages (from feature-engine) (0.14.2)\n",
            "Requirement already satisfied: python-dateutil>=2.8.2 in /usr/local/lib/python3.10/dist-packages (from pandas>=2.2.0->feature-engine) (2.8.2)\n",
            "Requirement already satisfied: pytz>=2020.1 in /usr/local/lib/python3.10/dist-packages (from pandas>=2.2.0->feature-engine) (2023.4)\n",
            "Requirement already satisfied: tzdata>=2022.7 in /usr/local/lib/python3.10/dist-packages (from pandas>=2.2.0->feature-engine) (2024.1)\n",
            "Requirement already satisfied: joblib>=1.2.0 in /usr/local/lib/python3.10/dist-packages (from scikit-learn>=1.4.0->feature-engine) (1.4.0)\n",
            "Requirement already satisfied: threadpoolctl>=2.0.0 in /usr/local/lib/python3.10/dist-packages (from scikit-learn>=1.4.0->feature-engine) (3.4.0)\n",
            "Requirement already satisfied: patsy>=0.5.6 in /usr/local/lib/python3.10/dist-packages (from statsmodels>=0.11.1->feature-engine) (0.5.6)\n",
            "Requirement already satisfied: packaging>=21.3 in /usr/local/lib/python3.10/dist-packages (from statsmodels>=0.11.1->feature-engine) (24.0)\n",
            "Requirement already satisfied: six in /usr/local/lib/python3.10/dist-packages (from patsy>=0.5.6->statsmodels>=0.11.1->feature-engine) (1.16.0)\n",
            "Installing collected packages: scikit-learn, pandas, feature-engine\n",
            "  Attempting uninstall: scikit-learn\n",
            "    Found existing installation: scikit-learn 1.2.2\n",
            "    Uninstalling scikit-learn-1.2.2:\n",
            "      Successfully uninstalled scikit-learn-1.2.2\n",
            "  Attempting uninstall: pandas\n",
            "    Found existing installation: pandas 2.0.3\n",
            "    Uninstalling pandas-2.0.3:\n",
            "      Successfully uninstalled pandas-2.0.3\n",
            "\u001b[31mERROR: pip's dependency resolver does not currently take into account all the packages that are installed. This behaviour is the source of the following dependency conflicts.\n",
            "google-colab 1.0.0 requires pandas==2.0.3, but you have pandas 2.2.2 which is incompatible.\u001b[0m\u001b[31m\n",
            "\u001b[0mSuccessfully installed feature-engine-1.7.0 pandas-2.2.2 scikit-learn-1.4.2\n"
          ]
        }
      ]
    },
    {
      "cell_type": "code",
      "source": [
        "from feature_engine.creation import CyclicalFeatures\n",
        "from feature_engine.datetime import DatetimeFeatures\n",
        "from feature_engine.selection import DropFeatures"
      ],
      "metadata": {
        "execution": {
          "iopub.status.busy": "2023-02-21T22:14:08.846825Z",
          "iopub.execute_input": "2023-02-21T22:14:08.847144Z",
          "iopub.status.idle": "2023-02-21T22:14:09.117409Z",
          "shell.execute_reply.started": "2023-02-21T22:14:08.84711Z",
          "shell.execute_reply": "2023-02-21T22:14:09.116434Z"
        },
        "trusted": true,
        "id": "r5pZMgwOelB2"
      },
      "execution_count": null,
      "outputs": []
    },
    {
      "cell_type": "markdown",
      "source": [
        "<a id=\"3\"></a> <br>\n",
        "# 3. Load the Data"
      ],
      "metadata": {
        "id": "P2PQ_zX_elB2"
      }
    },
    {
      "cell_type": "code",
      "source": [
        "train_data = pd.read_csv('/kaggle/input/widsdatathon2023/train_data.csv', index_col = ['startdate'])\n",
        "test_data = pd.read_csv('/kaggle/input/widsdatathon2023/test_data.csv', index_col = ['startdate'])\n",
        "submit = pd.read_csv('/kaggle/input/widsdatathon2023/sample_solution.csv')"
      ],
      "metadata": {
        "execution": {
          "iopub.status.busy": "2023-02-21T22:14:09.119059Z",
          "iopub.execute_input": "2023-02-21T22:14:09.119443Z",
          "iopub.status.idle": "2023-02-21T22:14:31.639693Z",
          "shell.execute_reply.started": "2023-02-21T22:14:09.119393Z",
          "shell.execute_reply": "2023-02-21T22:14:31.638392Z"
        },
        "trusted": true,
        "id": "ERXLTqS4elB2"
      },
      "execution_count": null,
      "outputs": []
    },
    {
      "cell_type": "markdown",
      "source": [
        "<a id=\"4\"></a> <br>\n",
        "# 4. View Data"
      ],
      "metadata": {
        "id": "Y-0mMUzOelB3"
      }
    },
    {
      "cell_type": "markdown",
      "source": [
        "## First, have a look in to the Train dataset"
      ],
      "metadata": {
        "id": "EVxx08exelB3"
      }
    },
    {
      "cell_type": "code",
      "source": [
        "train_data.head()"
      ],
      "metadata": {
        "_kg_hide-output": true,
        "execution": {
          "iopub.status.busy": "2023-02-21T22:14:31.642906Z",
          "iopub.execute_input": "2023-02-21T22:14:31.647031Z",
          "iopub.status.idle": "2023-02-21T22:14:31.699144Z",
          "shell.execute_reply.started": "2023-02-21T22:14:31.646987Z",
          "shell.execute_reply": "2023-02-21T22:14:31.698342Z"
        },
        "trusted": true,
        "id": "tItnywttelB3"
      },
      "execution_count": null,
      "outputs": []
    },
    {
      "cell_type": "code",
      "source": [
        "test_data.head()"
      ],
      "metadata": {
        "_kg_hide-output": true,
        "execution": {
          "iopub.status.busy": "2023-02-21T22:14:31.703153Z",
          "iopub.execute_input": "2023-02-21T22:14:31.705301Z",
          "iopub.status.idle": "2023-02-21T22:14:31.744577Z",
          "shell.execute_reply.started": "2023-02-21T22:14:31.705265Z",
          "shell.execute_reply": "2023-02-21T22:14:31.743804Z"
        },
        "trusted": true,
        "id": "y5PbdC3QelB3"
      },
      "execution_count": null,
      "outputs": []
    },
    {
      "cell_type": "code",
      "source": [
        "# Check the data types and data info\n",
        "train_data.info(verbose=True, show_counts=True)"
      ],
      "metadata": {
        "_kg_hide-output": true,
        "execution": {
          "iopub.status.busy": "2023-02-21T22:14:31.748994Z",
          "iopub.execute_input": "2023-02-21T22:14:31.751346Z",
          "iopub.status.idle": "2023-02-21T22:14:32.096588Z",
          "shell.execute_reply.started": "2023-02-21T22:14:31.751309Z",
          "shell.execute_reply": "2023-02-21T22:14:32.095713Z"
        },
        "trusted": true,
        "id": "pxdTw0KLelB3"
      },
      "execution_count": null,
      "outputs": []
    },
    {
      "cell_type": "markdown",
      "source": [
        "**Most of the variables are numerical. Right now, only one variable is categorical. It is 244 features and the target variable \"contest-tmp2m-14d__tmp2m\". That's a lot**"
      ],
      "metadata": {
        "id": "q_8-DMIielB3"
      }
    },
    {
      "cell_type": "code",
      "source": [
        "test_data.info(verbose=True, show_counts=True)"
      ],
      "metadata": {
        "_kg_hide-output": true,
        "execution": {
          "iopub.status.busy": "2023-02-21T22:14:32.100705Z",
          "iopub.execute_input": "2023-02-21T22:14:32.103002Z",
          "iopub.status.idle": "2023-02-21T22:14:32.160932Z",
          "shell.execute_reply.started": "2023-02-21T22:14:32.102965Z",
          "shell.execute_reply": "2023-02-21T22:14:32.159984Z"
        },
        "trusted": true,
        "id": "NVNUCt6uelB3"
      },
      "execution_count": null,
      "outputs": []
    },
    {
      "cell_type": "code",
      "source": [
        "train_data.shape, test_data.shape"
      ],
      "metadata": {
        "execution": {
          "iopub.status.busy": "2023-02-21T22:14:32.164239Z",
          "iopub.execute_input": "2023-02-21T22:14:32.167645Z",
          "iopub.status.idle": "2023-02-21T22:14:32.17731Z",
          "shell.execute_reply.started": "2023-02-21T22:14:32.167606Z",
          "shell.execute_reply": "2023-02-21T22:14:32.176385Z"
        },
        "trusted": true,
        "id": "whkFdQfIelB4"
      },
      "execution_count": null,
      "outputs": []
    },
    {
      "cell_type": "markdown",
      "source": [
        "**Test data does not include data for the target variable 'contest-tmp2m-14d__tmp2m'. All the other variables which are in the train data set are in the test data**"
      ],
      "metadata": {
        "id": "f31f7MTqelB4"
      }
    },
    {
      "cell_type": "code",
      "source": [
        "train_data.describe().transpose()"
      ],
      "metadata": {
        "_kg_hide-output": true,
        "execution": {
          "iopub.status.busy": "2023-02-21T22:14:32.178901Z",
          "iopub.execute_input": "2023-02-21T22:14:32.179576Z",
          "iopub.status.idle": "2023-02-21T22:14:35.163496Z",
          "shell.execute_reply.started": "2023-02-21T22:14:32.179533Z",
          "shell.execute_reply": "2023-02-21T22:14:35.162423Z"
        },
        "trusted": true,
        "id": "A9eHNlm8elB4"
      },
      "execution_count": null,
      "outputs": []
    },
    {
      "cell_type": "code",
      "source": [
        "# cast train dataset startdate variable into date format\n",
        "train_data.index = pd.to_datetime(train_data.index)\n",
        "train_data.index"
      ],
      "metadata": {
        "execution": {
          "iopub.status.busy": "2023-02-21T22:14:35.16518Z",
          "iopub.execute_input": "2023-02-21T22:14:35.165973Z",
          "iopub.status.idle": "2023-02-21T22:14:58.924448Z",
          "shell.execute_reply.started": "2023-02-21T22:14:35.165913Z",
          "shell.execute_reply": "2023-02-21T22:14:58.923348Z"
        },
        "trusted": true,
        "id": "2mj8alntelB4"
      },
      "execution_count": null,
      "outputs": []
    },
    {
      "cell_type": "code",
      "source": [
        "train_data.index.min(), train_data.index.max()"
      ],
      "metadata": {
        "execution": {
          "iopub.status.busy": "2023-02-21T22:14:58.926128Z",
          "iopub.execute_input": "2023-02-21T22:14:58.926802Z",
          "iopub.status.idle": "2023-02-21T22:14:58.936466Z",
          "shell.execute_reply.started": "2023-02-21T22:14:58.926765Z",
          "shell.execute_reply": "2023-02-21T22:14:58.935094Z"
        },
        "trusted": true,
        "id": "8VqHX3gPelB4"
      },
      "execution_count": null,
      "outputs": []
    },
    {
      "cell_type": "markdown",
      "source": [
        "**Simply it is continuous daily data for 245 variables. First thought, this is a complex dataset. Maximum Timestamp is ('2014-09-01 00:00:00'), and the minimum Timestamp is ('2016-08-31 00:00:00')). It should be 731\n",
        "Data instances. But we have 375734 data instances. It seems the dataset stacked several datasets on each other. Let's check...**"
      ],
      "metadata": {
        "id": "4NX7QqQmelB4"
      }
    },
    {
      "cell_type": "code",
      "source": [
        "# cast test dataset startdate variable into date format\n",
        "test_data.index = pd.to_datetime(test_data.index)\n",
        "test_data.index"
      ],
      "metadata": {
        "execution": {
          "iopub.status.busy": "2023-02-21T22:14:58.938165Z",
          "iopub.execute_input": "2023-02-21T22:14:58.938526Z",
          "iopub.status.idle": "2023-02-21T22:14:58.958037Z",
          "shell.execute_reply.started": "2023-02-21T22:14:58.938491Z",
          "shell.execute_reply": "2023-02-21T22:14:58.957067Z"
        },
        "trusted": true,
        "id": "-rbyDCRSelB4"
      },
      "execution_count": null,
      "outputs": []
    },
    {
      "cell_type": "code",
      "source": [
        "test_data.index.min(), test_data.index.max()"
      ],
      "metadata": {
        "execution": {
          "iopub.status.busy": "2023-02-21T22:14:58.962955Z",
          "iopub.execute_input": "2023-02-21T22:14:58.963212Z",
          "iopub.status.idle": "2023-02-21T22:14:58.972345Z",
          "shell.execute_reply.started": "2023-02-21T22:14:58.963189Z",
          "shell.execute_reply": "2023-02-21T22:14:58.971444Z"
        },
        "trusted": true,
        "id": "JLnqz-0DelB4"
      },
      "execution_count": null,
      "outputs": []
    },
    {
      "cell_type": "markdown",
      "source": [
        "**We have test data for 61 days time period. But in total we have 31354 data instances**"
      ],
      "metadata": {
        "id": "IKqtGjcbelB4"
      }
    },
    {
      "cell_type": "markdown",
      "source": [
        "## Simplify the dataset complexity by using the \"lon\" and \"lat\" variables"
      ],
      "metadata": {
        "id": "i4PNKdvHelB4"
      }
    },
    {
      "cell_type": "code",
      "source": [
        "# Create a new variable called 'location' by using 'lon' & 'lat'\n",
        "import math\n",
        "def truncate(number, digits) -> float:\n",
        "    stepper = 10.0 ** digits\n",
        "    return math.trunc(stepper * number) / stepper\n",
        "\n",
        "train_data['trunc_lon'] = train_data['lon'].apply(lambda x: truncate(x,4))\n",
        "train_data['trunc_lon'] = train_data['trunc_lon'].map('{:.9f}'.format)\n",
        "\n",
        "train_data['trunc_lat'] = train_data['lat'].apply(lambda x: truncate(x,4))\n",
        "train_data['trunc_lat'] = train_data['trunc_lat'].map('{:.9f}'.format)"
      ],
      "metadata": {
        "execution": {
          "iopub.status.busy": "2023-02-21T22:14:58.973946Z",
          "iopub.execute_input": "2023-02-21T22:14:58.974404Z",
          "iopub.status.idle": "2023-02-21T22:14:59.712458Z",
          "shell.execute_reply.started": "2023-02-21T22:14:58.974369Z",
          "shell.execute_reply": "2023-02-21T22:14:59.71144Z"
        },
        "trusted": true,
        "id": "kQbA6eL2elB4"
      },
      "execution_count": null,
      "outputs": []
    },
    {
      "cell_type": "code",
      "source": [
        "cols = ['trunc_lon', 'trunc_lat']\n",
        "train_data['location'] = train_data[cols].apply(lambda row: '_'.join(row.values.astype(object)), axis=1)"
      ],
      "metadata": {
        "execution": {
          "iopub.status.busy": "2023-02-21T22:14:59.714118Z",
          "iopub.execute_input": "2023-02-21T22:14:59.714485Z",
          "iopub.status.idle": "2023-02-21T22:15:04.238565Z",
          "shell.execute_reply.started": "2023-02-21T22:14:59.714448Z",
          "shell.execute_reply": "2023-02-21T22:15:04.237576Z"
        },
        "trusted": true,
        "id": "4u6hN2aKelB5"
      },
      "execution_count": null,
      "outputs": []
    },
    {
      "cell_type": "code",
      "source": [
        "train_data['location'].describe()"
      ],
      "metadata": {
        "execution": {
          "iopub.status.busy": "2023-02-21T22:15:04.240255Z",
          "iopub.execute_input": "2023-02-21T22:15:04.240632Z",
          "iopub.status.idle": "2023-02-21T22:15:04.293843Z",
          "shell.execute_reply.started": "2023-02-21T22:15:04.240595Z",
          "shell.execute_reply": "2023-02-21T22:15:04.292807Z"
        },
        "trusted": true,
        "id": "f0Ui5QO0elB5"
      },
      "execution_count": null,
      "outputs": []
    },
    {
      "cell_type": "markdown",
      "source": [
        "**Problem solved! The dataset belongs to 514 unique locations. 514 * 731 daily data instances. That is how it made for 375734 data instances**"
      ],
      "metadata": {
        "id": "7S7bcO90elB5"
      }
    },
    {
      "cell_type": "markdown",
      "source": [
        "### Do the same thing for the test dataset"
      ],
      "metadata": {
        "id": "B-WoxKkLelB5"
      }
    },
    {
      "cell_type": "code",
      "source": [
        "test_data['trunc_lon'] = test_data['lon'].apply(lambda x: truncate(x,4))\n",
        "test_data['trunc_lon'] = test_data['trunc_lon'].map('{:.9f}'.format)\n",
        "\n",
        "test_data['trunc_lat'] = test_data['lat'].apply(lambda x: truncate(x,4))\n",
        "test_data['trunc_lat'] = test_data['trunc_lat'].map('{:.9f}'.format)"
      ],
      "metadata": {
        "execution": {
          "iopub.status.busy": "2023-02-21T22:15:04.295908Z",
          "iopub.execute_input": "2023-02-21T22:15:04.296695Z",
          "iopub.status.idle": "2023-02-21T22:15:04.37671Z",
          "shell.execute_reply.started": "2023-02-21T22:15:04.296578Z",
          "shell.execute_reply": "2023-02-21T22:15:04.375807Z"
        },
        "trusted": true,
        "id": "rKplD493elB5"
      },
      "execution_count": null,
      "outputs": []
    },
    {
      "cell_type": "code",
      "source": [
        "test_data['location'] = test_data[cols].apply(lambda row: '_'.join(row.values.astype(object)), axis=1)"
      ],
      "metadata": {
        "execution": {
          "iopub.status.busy": "2023-02-21T22:15:04.378217Z",
          "iopub.execute_input": "2023-02-21T22:15:04.378577Z",
          "iopub.status.idle": "2023-02-21T22:15:04.667217Z",
          "shell.execute_reply.started": "2023-02-21T22:15:04.37854Z",
          "shell.execute_reply": "2023-02-21T22:15:04.666193Z"
        },
        "trusted": true,
        "id": "HB4K0gS1elB5"
      },
      "execution_count": null,
      "outputs": []
    },
    {
      "cell_type": "code",
      "source": [
        "test_data['location'].describe()"
      ],
      "metadata": {
        "execution": {
          "iopub.status.busy": "2023-02-21T22:15:04.668697Z",
          "iopub.execute_input": "2023-02-21T22:15:04.669614Z",
          "iopub.status.idle": "2023-02-21T22:15:04.685222Z",
          "shell.execute_reply.started": "2023-02-21T22:15:04.66957Z",
          "shell.execute_reply": "2023-02-21T22:15:04.684182Z"
        },
        "trusted": true,
        "id": "7e8xgDraelB5"
      },
      "execution_count": null,
      "outputs": []
    },
    {
      "cell_type": "markdown",
      "source": [
        "**The dataset belongs to 514 unique locations. 514 * 61 daily data instances. That is how it made for 31354 data instances. But there is a problem again, are they belong to the same locations as in the train dataset or different?**"
      ],
      "metadata": {
        "id": "yka-cGjpelB5"
      }
    },
    {
      "cell_type": "code",
      "source": [
        "# Drop unnecessary columns from the train data frame\n",
        "train_data.drop(['index','lon','lat','trunc_lon','trunc_lat'], axis=1, inplace=True)"
      ],
      "metadata": {
        "execution": {
          "iopub.status.busy": "2023-02-21T22:15:04.686821Z",
          "iopub.execute_input": "2023-02-21T22:15:04.68727Z",
          "iopub.status.idle": "2023-02-21T22:15:04.958146Z",
          "shell.execute_reply.started": "2023-02-21T22:15:04.687232Z",
          "shell.execute_reply": "2023-02-21T22:15:04.957176Z"
        },
        "trusted": true,
        "id": "nc8LnvA2elB6"
      },
      "execution_count": null,
      "outputs": []
    },
    {
      "cell_type": "code",
      "source": [
        "train_data.head()"
      ],
      "metadata": {
        "execution": {
          "iopub.status.busy": "2023-02-21T22:15:04.959701Z",
          "iopub.execute_input": "2023-02-21T22:15:04.960097Z",
          "iopub.status.idle": "2023-02-21T22:15:04.991614Z",
          "shell.execute_reply.started": "2023-02-21T22:15:04.960061Z",
          "shell.execute_reply": "2023-02-21T22:15:04.990472Z"
        },
        "trusted": true,
        "id": "h-KzkIXmelB6"
      },
      "execution_count": null,
      "outputs": []
    },
    {
      "cell_type": "code",
      "source": [
        "# Drop unnecessary columns from the test data frame\n",
        "test_data.drop(['index','lon','lat','trunc_lon','trunc_lat'], axis=1, inplace=True)"
      ],
      "metadata": {
        "execution": {
          "iopub.status.busy": "2023-02-21T22:15:04.993083Z",
          "iopub.execute_input": "2023-02-21T22:15:04.993585Z",
          "iopub.status.idle": "2023-02-21T22:15:05.01895Z",
          "shell.execute_reply.started": "2023-02-21T22:15:04.993539Z",
          "shell.execute_reply": "2023-02-21T22:15:05.017983Z"
        },
        "trusted": true,
        "id": "CWLDvLDGelB-"
      },
      "execution_count": null,
      "outputs": []
    },
    {
      "cell_type": "code",
      "source": [
        "test_data.head()"
      ],
      "metadata": {
        "execution": {
          "iopub.status.busy": "2023-02-21T22:15:05.020682Z",
          "iopub.execute_input": "2023-02-21T22:15:05.021105Z",
          "iopub.status.idle": "2023-02-21T22:15:05.053635Z",
          "shell.execute_reply.started": "2023-02-21T22:15:05.021068Z",
          "shell.execute_reply": "2023-02-21T22:15:05.052374Z"
        },
        "trusted": true,
        "id": "jWml2gEIelB-"
      },
      "execution_count": null,
      "outputs": []
    },
    {
      "cell_type": "markdown",
      "source": [
        "<a id=\"5\"></a> <br>\n",
        "# 5. Handeling missing Data"
      ],
      "metadata": {
        "id": "DdfQ5_tkelB-"
      }
    },
    {
      "cell_type": "markdown",
      "source": [
        "### Check for missing data in Train Dataset"
      ],
      "metadata": {
        "id": "M8RCgfEielB-"
      }
    },
    {
      "cell_type": "code",
      "source": [
        "#quick check for missing data\n",
        "#null_counts=train_cleaned.isnull().sum()\n",
        "#data_null = null_counts[null_counts > 0]\n",
        "\n",
        "def missing_zero_values_table(df):\n",
        "        zero_val = (df == 0.00).astype(int).sum(axis=0)\n",
        "        mis_val = df.isnull().sum()\n",
        "        mis_val_percent = 100 * df.isnull().sum() / len(df)\n",
        "        mz_table = pd.concat([zero_val, mis_val, mis_val_percent], axis=1)\n",
        "        mz_table = mz_table.rename(\n",
        "        columns = {0 : 'Zero Values', 1 : 'Missing Values', 2 : '% of Total Values'})\n",
        "        mz_table['Total Zero Missing Values'] = mz_table['Zero Values'] + mz_table['Missing Values']\n",
        "        mz_table['% Total Zero Missing Values'] = 100 * mz_table['Total Zero Missing Values'] / len(df)\n",
        "        mz_table['Data Type'] = df.dtypes\n",
        "        mz_table = mz_table[\n",
        "            mz_table.iloc[:,1] != 0].sort_values(\n",
        "        '% of Total Values', ascending=False).round(1)\n",
        "        print (\"Your selected dataframe has \" + str(df.shape[1]) + \" columns and \" + str(df.shape[0]) + \" Rows.\\n\"\n",
        "            \"There are \" + str(mz_table.shape[0]) +\n",
        "              \" columns that have missing values.\")\n",
        "        return mz_table\n",
        "\n",
        "missing_zero_values_table(train_data)"
      ],
      "metadata": {
        "execution": {
          "iopub.status.busy": "2023-02-21T22:15:05.055347Z",
          "iopub.execute_input": "2023-02-21T22:15:05.055888Z",
          "iopub.status.idle": "2023-02-21T22:15:05.869127Z",
          "shell.execute_reply.started": "2023-02-21T22:15:05.055847Z",
          "shell.execute_reply": "2023-02-21T22:15:05.868082Z"
        },
        "trusted": true,
        "id": "IQm4256selB-"
      },
      "execution_count": null,
      "outputs": []
    },
    {
      "cell_type": "code",
      "source": [
        "# Trying to identify the correlation between the features which have missing values\n",
        "msno.heatmap(train_data, cmap=\"RdYlGn\", figsize=(10,5), fontsize=10)"
      ],
      "metadata": {
        "execution": {
          "iopub.status.busy": "2023-02-21T22:15:05.870874Z",
          "iopub.execute_input": "2023-02-21T22:15:05.87164Z",
          "iopub.status.idle": "2023-02-21T22:15:07.05452Z",
          "shell.execute_reply.started": "2023-02-21T22:15:05.871597Z",
          "shell.execute_reply": "2023-02-21T22:15:07.053414Z"
        },
        "trusted": true,
        "id": "Pgqw-xhielB-"
      },
      "execution_count": null,
      "outputs": []
    },
    {
      "cell_type": "markdown",
      "source": [
        "**There are 8 columns that have missing values.\n",
        "Looks like they have good correlation between each other**\n",
        "\n",
        "**Just look for their distribution**"
      ],
      "metadata": {
        "id": "uKcA77ntelB-"
      }
    },
    {
      "cell_type": "code",
      "source": [
        "# Thinking about the zero values possible for these variables.\n",
        "fig, axes = plt.subplots(2,4, figsize=(15, 5))\n",
        "ax = axes.flatten()\n",
        "zero_list = ['nmme0-tmp2m-34w__ccsm30','nmme0-prate-56w__ccsm30', 'nmme0-prate-34w__ccsm30', 'ccsm30',\n",
        "             'nmme-tmp2m-56w__ccsm3','nmme-prate-56w__ccsm3', 'nmme-prate-34w__ccsm3', 'nmme-tmp2m-34w__ccsm3']\n",
        "for i, col in enumerate(zero_list):\n",
        "    sns.histplot(train_data[col], ax=ax[i])\n",
        "    ax[i].set_title(col)\n",
        "\n",
        "    ax[i].ticklabel_format(style='plain', axis='both')\n",
        "\n",
        "fig.tight_layout(w_pad=6, h_pad=4)\n",
        "plt.show()"
      ],
      "metadata": {
        "execution": {
          "iopub.status.busy": "2023-02-21T22:15:07.056223Z",
          "iopub.execute_input": "2023-02-21T22:15:07.056635Z",
          "iopub.status.idle": "2023-02-21T22:15:11.830814Z",
          "shell.execute_reply.started": "2023-02-21T22:15:07.056597Z",
          "shell.execute_reply": "2023-02-21T22:15:11.829792Z"
        },
        "trusted": true,
        "id": "oiS-xdZyelB-"
      },
      "execution_count": null,
      "outputs": []
    },
    {
      "cell_type": "markdown",
      "source": [
        "**The variables are precipitation, and temperature related. With my knowledge, it is possible to have zero values for them. So I decided to leave them as it is**\n",
        "\n",
        "**I decided to fill in Null values at this stage. But it might cause data leakage problems**\n",
        "\n",
        "**I used the dataframe method fillna for filling missing values,which will propagate last valid observation forward to next valid.\n",
        "Since the missing value percentage is comparatively small, I hope this will not be a big deal for this dataset**  "
      ],
      "metadata": {
        "id": "Qk8QpusxelB-"
      }
    },
    {
      "cell_type": "code",
      "source": [
        "# train_cleaned.interpolate(method ='linear', limit_direction ='forward')\n",
        "train_data.fillna(method = 'ffill' , inplace = True)"
      ],
      "metadata": {
        "execution": {
          "iopub.status.busy": "2023-02-21T22:15:11.832625Z",
          "iopub.execute_input": "2023-02-21T22:15:11.833078Z",
          "iopub.status.idle": "2023-02-21T22:15:12.114223Z",
          "shell.execute_reply.started": "2023-02-21T22:15:11.833038Z",
          "shell.execute_reply": "2023-02-21T22:15:12.113015Z"
        },
        "trusted": true,
        "id": "qrJxWNfgelB_"
      },
      "execution_count": null,
      "outputs": []
    },
    {
      "cell_type": "markdown",
      "source": [
        "### Check for missing data in Test Dataset"
      ],
      "metadata": {
        "id": "VKerQ9-yelB_"
      }
    },
    {
      "cell_type": "code",
      "source": [
        "# quick check for missing data in test dataset\n",
        "null_counts=test_data.isnull().sum()\n",
        "null_counts[null_counts > 0]"
      ],
      "metadata": {
        "execution": {
          "iopub.status.busy": "2023-02-21T22:15:12.11904Z",
          "iopub.execute_input": "2023-02-21T22:15:12.119901Z",
          "iopub.status.idle": "2023-02-21T22:15:12.159616Z",
          "shell.execute_reply.started": "2023-02-21T22:15:12.119841Z",
          "shell.execute_reply": "2023-02-21T22:15:12.158603Z"
        },
        "trusted": true,
        "id": "ZIaounvrelB_"
      },
      "execution_count": null,
      "outputs": []
    },
    {
      "cell_type": "markdown",
      "source": [
        "**Glad! No any missing data in test dataset**"
      ],
      "metadata": {
        "id": "5Jhf20NqelB_"
      }
    },
    {
      "cell_type": "markdown",
      "source": [
        "<a id=\"6\"></a> <br>\n",
        "# 6. Analyse the Target Variable 'contest-tmp2m-14d__tmp2m'"
      ],
      "metadata": {
        "id": "SFH-qtOaelB_"
      }
    },
    {
      "cell_type": "code",
      "source": [
        "train_data['contest-tmp2m-14d__tmp2m'].describe()"
      ],
      "metadata": {
        "execution": {
          "iopub.status.busy": "2023-02-21T22:15:12.163717Z",
          "iopub.execute_input": "2023-02-21T22:15:12.164527Z",
          "iopub.status.idle": "2023-02-21T22:15:12.195412Z",
          "shell.execute_reply.started": "2023-02-21T22:15:12.164491Z",
          "shell.execute_reply": "2023-02-21T22:15:12.194501Z"
        },
        "trusted": true,
        "id": "97ePgIp1elB_"
      },
      "execution_count": null,
      "outputs": []
    },
    {
      "cell_type": "code",
      "source": [
        "# Distribution plot\n",
        "plt.figure(figsize=(8,5))\n",
        "sns.set() # for style\n",
        "sns.distplot(train_data['contest-tmp2m-14d__tmp2m'] , fit=norm)\n",
        "plt.title(\"Histogram of contest-tmp2m-14d__tmp2m\") # for histogram title\n",
        "# probability plot\n",
        "plt.figure(figsize=(8,5))\n",
        "res = stats.probplot(train_data['contest-tmp2m-14d__tmp2m'], plot=plt)\n",
        "plt.show()\n",
        "\n",
        "# skewness and kurtosis\n",
        "print(\"Skewness: %f\" % train_data['contest-tmp2m-14d__tmp2m'].skew())\n",
        "print(\"Kurtosis: %f\" % train_data['contest-tmp2m-14d__tmp2m'].kurt())"
      ],
      "metadata": {
        "execution": {
          "iopub.status.busy": "2023-02-21T22:15:12.199934Z",
          "iopub.execute_input": "2023-02-21T22:15:12.202989Z",
          "iopub.status.idle": "2023-02-21T22:15:14.688035Z",
          "shell.execute_reply.started": "2023-02-21T22:15:12.20295Z",
          "shell.execute_reply": "2023-02-21T22:15:14.686884Z"
        },
        "trusted": true,
        "id": "bB4CWSZVelB_"
      },
      "execution_count": null,
      "outputs": []
    },
    {
      "cell_type": "markdown",
      "source": [
        "The skewness of 'contest-tmp2m-14d__tmp2m' was found to be -0.227, indicating that the distribution was little left-skewed.\n",
        "\n",
        "The kurtosis of 'contest-tmp2m-14d__tmp2m' was found to be -0.517, indicating that the distribution lighter-tailed compared to the normal distribution.\n",
        "\n",
        "**Do we need to take any actions ? As I think we don't need...**"
      ],
      "metadata": {
        "id": "GBBGcAcfelB_"
      }
    },
    {
      "cell_type": "markdown",
      "source": [
        "<a id=\"7\"></a> <br>\n",
        "# 7. Exploratory Data Analysis"
      ],
      "metadata": {
        "id": "mih9zUC-elCA"
      }
    },
    {
      "cell_type": "markdown",
      "source": [
        "## Visualize Time-series Data"
      ],
      "metadata": {
        "id": "vE-q45HvelCA"
      }
    },
    {
      "cell_type": "code",
      "source": [
        "# Visualize time-series data Temperature and Precipitation\n",
        "variables = list(train_data.columns)\n",
        "for var in ['contest-tmp2m-14d__tmp2m', 'contest-precip-14d__precip']:\n",
        "    #plot the time series\n",
        "    train_data[var].plot(figsize=(20,4))\n",
        "\n",
        "    # add title\n",
        "    plt.title(var)\n",
        "\n",
        "    #the y axis lable\n",
        "    plt.ylabel(var)\n",
        "\n",
        "    plt.show()"
      ],
      "metadata": {
        "execution": {
          "iopub.status.busy": "2023-02-21T22:15:14.689661Z",
          "iopub.execute_input": "2023-02-21T22:15:14.690317Z",
          "iopub.status.idle": "2023-02-21T22:15:18.86663Z",
          "shell.execute_reply.started": "2023-02-21T22:15:14.690278Z",
          "shell.execute_reply": "2023-02-21T22:15:18.865731Z"
        },
        "trusted": true,
        "id": "j5M9tLY7elCA"
      },
      "execution_count": null,
      "outputs": []
    },
    {
      "cell_type": "markdown",
      "source": [
        "## Seasonality - Temperature"
      ],
      "metadata": {
        "id": "IYYCLaMCelCA"
      }
    },
    {
      "cell_type": "code",
      "source": [
        "# Capture \"date\" in a new variable\n",
        "time_m = train_data.index.month\n",
        "time_m =pd.Series(time_m, index=train_data.index)\n",
        "time_y = train_data.index.year\n",
        "time_y =pd.Series(time_y, index=train_data.index)"
      ],
      "metadata": {
        "execution": {
          "iopub.status.busy": "2023-02-21T22:15:18.867952Z",
          "iopub.execute_input": "2023-02-21T22:15:18.8684Z",
          "iopub.status.idle": "2023-02-21T22:15:18.935108Z",
          "shell.execute_reply.started": "2023-02-21T22:15:18.868362Z",
          "shell.execute_reply": "2023-02-21T22:15:18.934072Z"
        },
        "trusted": true,
        "id": "5XU_m_y3elCA"
      },
      "execution_count": null,
      "outputs": []
    },
    {
      "cell_type": "code",
      "source": [
        "train_data.groupby(time_m)[['contest-tmp2m-14d__tmp2m']].mean().plot(figsize =(15,5))\n",
        "plt.title(\"Temperature seasonality - monthly(mean value from all 514 locations)\")\n",
        "plt.ylabel(\"Temperature\")"
      ],
      "metadata": {
        "execution": {
          "iopub.status.busy": "2023-02-21T22:15:18.936494Z",
          "iopub.execute_input": "2023-02-21T22:15:18.937145Z",
          "iopub.status.idle": "2023-02-21T22:15:19.235544Z",
          "shell.execute_reply.started": "2023-02-21T22:15:18.937108Z",
          "shell.execute_reply": "2023-02-21T22:15:19.234626Z"
        },
        "trusted": true,
        "id": "lqjJL1ncelCA"
      },
      "execution_count": null,
      "outputs": []
    },
    {
      "cell_type": "code",
      "source": [
        "train_data.groupby(time_y)[['contest-tmp2m-14d__tmp2m']].mean().plot(figsize =(15,5))\n",
        "plt.title(\"Temperature seasonality - yearly(mean value from all 514 locations)\")\n",
        "plt.ylabel(\"Temperature\")"
      ],
      "metadata": {
        "execution": {
          "iopub.status.busy": "2023-02-21T22:15:19.237146Z",
          "iopub.execute_input": "2023-02-21T22:15:19.237816Z",
          "iopub.status.idle": "2023-02-21T22:15:19.555834Z",
          "shell.execute_reply.started": "2023-02-21T22:15:19.237777Z",
          "shell.execute_reply": "2023-02-21T22:15:19.554765Z"
        },
        "trusted": true,
        "id": "Q5JDb9xQelCA"
      },
      "execution_count": null,
      "outputs": []
    },
    {
      "cell_type": "markdown",
      "source": [
        "The mean temperature values are increasing between 2014 and 2015. It is nearly **6 degrees within 2 years!**"
      ],
      "metadata": {
        "id": "LvxRWRdoelCA"
      }
    },
    {
      "cell_type": "markdown",
      "source": [
        "## Seasonality - Precipitation"
      ],
      "metadata": {
        "id": "U6l1SkH7elCB"
      }
    },
    {
      "cell_type": "code",
      "source": [
        "train_data.groupby(time_m)[['contest-precip-14d__precip']].mean().plot(figsize =(15,5))\n",
        "plt.title(\"Precipitation seasonality - monthly(mean value from all 514 locations)\")\n",
        "plt.ylabel(\"Precipitation\")"
      ],
      "metadata": {
        "execution": {
          "iopub.status.busy": "2023-02-21T22:15:19.558723Z",
          "iopub.execute_input": "2023-02-21T22:15:19.559875Z",
          "iopub.status.idle": "2023-02-21T22:15:19.839645Z",
          "shell.execute_reply.started": "2023-02-21T22:15:19.559831Z",
          "shell.execute_reply": "2023-02-21T22:15:19.838693Z"
        },
        "trusted": true,
        "id": "6rTud1mkelCB"
      },
      "execution_count": null,
      "outputs": []
    },
    {
      "cell_type": "markdown",
      "source": [
        "We can see the temperature variation throughout the year. During summer it is going to high values, and during winter it is getting low."
      ],
      "metadata": {
        "id": "A2UJ84lAelCB"
      }
    },
    {
      "cell_type": "code",
      "source": [
        "train_data.groupby(time_y)[['contest-precip-14d__precip']].mean().plot(figsize =(15,5))\n",
        "plt.title(\"Precipitation seasonality - yearly(mean value from all 514 locations)\")\n",
        "plt.ylabel(\"Precipitation\")"
      ],
      "metadata": {
        "execution": {
          "iopub.status.busy": "2023-02-21T22:15:19.840973Z",
          "iopub.execute_input": "2023-02-21T22:15:19.841322Z",
          "iopub.status.idle": "2023-02-21T22:15:20.148686Z",
          "shell.execute_reply.started": "2023-02-21T22:15:19.841287Z",
          "shell.execute_reply": "2023-02-21T22:15:20.147707Z"
        },
        "trusted": true,
        "id": "UY30kdVXelCB"
      },
      "execution_count": null,
      "outputs": []
    },
    {
      "cell_type": "markdown",
      "source": [
        "## Look Deeper in Precipitation Forcasting"
      ],
      "metadata": {
        "id": "A0O7NZ0QelCB"
      }
    },
    {
      "cell_type": "code",
      "source": [
        "precipitation_cols = [col for col in train_data if 'prate' in col ]\n",
        "precipitation_subset  = train_data[[col for col in train_data if 'prate' in col ]]\n",
        "print(precipitation_cols)"
      ],
      "metadata": {
        "execution": {
          "iopub.status.busy": "2023-02-21T22:15:20.150073Z",
          "iopub.execute_input": "2023-02-21T22:15:20.150933Z",
          "iopub.status.idle": "2023-02-21T22:15:20.195946Z",
          "shell.execute_reply.started": "2023-02-21T22:15:20.150887Z",
          "shell.execute_reply": "2023-02-21T22:15:20.194813Z"
        },
        "trusted": true,
        "id": "MWG1v0UvelCB"
      },
      "execution_count": null,
      "outputs": []
    },
    {
      "cell_type": "code",
      "source": [
        "# Compute corr matrix for weighted average of monthly/most recent monthly NMME model forecasts for precipitation\n",
        "corr = precipitation_subset.corr()\n",
        "plt.figure(figsize=(15, 15))\n",
        "\n",
        "sns.heatmap(corr[(corr >= 0.9) | (corr <= -0.9)],\n",
        "            cmap='viridis', vmax=1.0, vmin=-1.0, linewidths=0.1,\n",
        "            annot=True, annot_kws={\"size\": 8}, square=True);"
      ],
      "metadata": {
        "execution": {
          "iopub.status.busy": "2023-02-21T22:15:20.197632Z",
          "iopub.execute_input": "2023-02-21T22:15:20.198151Z",
          "iopub.status.idle": "2023-02-21T22:15:23.544029Z",
          "shell.execute_reply.started": "2023-02-21T22:15:20.198112Z",
          "shell.execute_reply": "2023-02-21T22:15:23.540583Z"
        },
        "trusted": true,
        "id": "2CAi-j3telCB"
      },
      "execution_count": null,
      "outputs": []
    },
    {
      "cell_type": "markdown",
      "source": [
        "There is a very high correlation between 'gfdlflora', and 'gfdlflorb' values, and also we can see a few other variables. We can drop them from the data frame.  \n"
      ],
      "metadata": {
        "id": "WmWFHYO_elCC"
      }
    },
    {
      "cell_type": "code",
      "source": [
        "cancm3_col = ['nmme-prate-34w__cancm3','nmme-prate-56w__cancm3','nmme0-prate-34w__cancm30','nmme0-prate-56w__cancm30','contest-precip-14d__precip']\n",
        "train_data.groupby(time_m)[cancm3_col].mean().plot(figsize =(15,5))\n",
        "plt.suptitle(\"monthly NMME model precipitation forecasts for cancm3 - Mean values for all 514 locations\")\n",
        "plt.title(\"along with Measured Precipitation\")\n",
        "plt.legend(bbox_to_anchor=(1.05, 1.0), loc='upper left')\n",
        "plt.ylabel(\"precipitation\")"
      ],
      "metadata": {
        "execution": {
          "iopub.status.busy": "2023-02-21T22:15:23.545144Z",
          "iopub.execute_input": "2023-02-21T22:15:23.54567Z",
          "iopub.status.idle": "2023-02-21T22:15:23.865719Z",
          "shell.execute_reply.started": "2023-02-21T22:15:23.54552Z",
          "shell.execute_reply": "2023-02-21T22:15:23.864651Z"
        },
        "trusted": true,
        "id": "lMSxKt-KelCC"
      },
      "execution_count": null,
      "outputs": []
    },
    {
      "cell_type": "code",
      "source": [
        "cancm4_col = ['nmme-prate-34w__cancm4','nmme-prate-56w__cancm4','nmme0-prate-34w__cancm40','nmme0-prate-56w__cancm40','contest-precip-14d__precip']\n",
        "train_data.groupby(time_m)[cancm4_col].mean().plot(figsize =(15,5))\n",
        "plt.suptitle(\"monthly NMME model precipitation forecasts for cancm4 - Mean values for all 514 locations\")\n",
        "plt.title(\"along with Measured Precipitation\")\n",
        "plt.legend(bbox_to_anchor=(1.05, 1.0), loc='upper left')\n",
        "plt.ylabel(\"precipitation\")"
      ],
      "metadata": {
        "execution": {
          "iopub.status.busy": "2023-02-21T22:15:23.876143Z",
          "iopub.execute_input": "2023-02-21T22:15:23.878032Z",
          "iopub.status.idle": "2023-02-21T22:15:24.202529Z",
          "shell.execute_reply.started": "2023-02-21T22:15:23.87799Z",
          "shell.execute_reply": "2023-02-21T22:15:24.201629Z"
        },
        "trusted": true,
        "id": "QZtVz4MAelCC"
      },
      "execution_count": null,
      "outputs": []
    },
    {
      "cell_type": "code",
      "source": [
        "ccsm3_col = ['nmme-prate-34w__ccsm3','nmme-prate-56w__ccsm3','nmme0-prate-34w__ccsm30','nmme0-prate-56w__ccsm30','contest-precip-14d__precip']\n",
        "train_data.groupby(time_m)[ccsm3_col].mean().plot(figsize =(15,5))\n",
        "plt.suptitle(\"monthly NMME model precipitation forecasts for ccsm3 - Mean values for all 514 locations\")\n",
        "plt.title(\"along with Measured Precipitation\")\n",
        "plt.legend(bbox_to_anchor=(1.05, 1.0), loc='upper left')\n",
        "plt.ylabel(\"precipitation\")"
      ],
      "metadata": {
        "execution": {
          "iopub.status.busy": "2023-02-21T22:15:24.203908Z",
          "iopub.execute_input": "2023-02-21T22:15:24.204931Z",
          "iopub.status.idle": "2023-02-21T22:15:24.533496Z",
          "shell.execute_reply.started": "2023-02-21T22:15:24.204891Z",
          "shell.execute_reply": "2023-02-21T22:15:24.532625Z"
        },
        "trusted": true,
        "id": "h68gxuhlelCC"
      },
      "execution_count": null,
      "outputs": []
    },
    {
      "cell_type": "code",
      "source": [
        "ccsm4_col = ['nmme-prate-34w__ccsm4','nmme-prate-56w__ccsm4','nmme0-prate-34w__ccsm40','nmme0-prate-56w__ccsm40','contest-precip-14d__precip']\n",
        "train_data.groupby(time_m)[ccsm4_col].mean().plot(figsize =(15,5))\n",
        "plt.suptitle(\"monthly NMME model precipitation forecasts for ccsm4 - Mean values for all 514 locations\")\n",
        "plt.title(\"along with Measured Precipitation\")\n",
        "plt.legend(bbox_to_anchor=(1.05, 1.0), loc='upper left')\n",
        "plt.ylabel(\"precipitation\")"
      ],
      "metadata": {
        "execution": {
          "iopub.status.busy": "2023-02-21T22:15:24.534884Z",
          "iopub.execute_input": "2023-02-21T22:15:24.535985Z",
          "iopub.status.idle": "2023-02-21T22:15:24.87667Z",
          "shell.execute_reply.started": "2023-02-21T22:15:24.535943Z",
          "shell.execute_reply": "2023-02-21T22:15:24.875695Z"
        },
        "trusted": true,
        "id": "8J-vwgACelCC"
      },
      "execution_count": null,
      "outputs": []
    },
    {
      "cell_type": "code",
      "source": [
        "cfsv2_col = ['nmme-prate-34w__cfsv2','nmme-prate-56w__cfsv2','nmme0-prate-34w__cfsv20','nmme0-prate-56w__cfsv20','contest-precip-14d__precip']\n",
        "train_data.groupby(time_m)[cfsv2_col].mean().plot(figsize =(15,5))\n",
        "plt.suptitle(\"monthly NMME model precipitation forecasts for cfsv2 - Mean values for all 514 locations\")\n",
        "plt.title(\"along with Measured Precipitation\")\n",
        "plt.legend(bbox_to_anchor=(1.05, 1.0), loc='upper left')\n",
        "plt.ylabel(\"precipitation\")"
      ],
      "metadata": {
        "execution": {
          "iopub.status.busy": "2023-02-21T22:15:24.878083Z",
          "iopub.execute_input": "2023-02-21T22:15:24.879117Z",
          "iopub.status.idle": "2023-02-21T22:15:25.210623Z",
          "shell.execute_reply.started": "2023-02-21T22:15:24.879074Z",
          "shell.execute_reply": "2023-02-21T22:15:25.20969Z"
        },
        "trusted": true,
        "id": "WOfGPMuNelCC"
      },
      "execution_count": null,
      "outputs": []
    },
    {
      "cell_type": "code",
      "source": [
        "gfdlflora_col = ['nmme-prate-34w__gfdlflora','nmme-prate-56w__gfdlflora','nmme0-prate-34w__gfdlflora0',\n",
        "                 'nmme0-prate-56w__gfdlflora0','contest-precip-14d__precip']\n",
        "train_data.groupby(time_m)[gfdlflora_col].mean().plot(figsize =(15,5))\n",
        "plt.suptitle(\"monthly NMME model precipitation forecasts for gfdlflora - Mean values for all 514 locations\")\n",
        "plt.title(\"along with Measured Precipitation\")\n",
        "plt.legend(bbox_to_anchor=(1.05, 1.0), loc='upper left')\n",
        "plt.ylabel(\"precipitation\")"
      ],
      "metadata": {
        "execution": {
          "iopub.status.busy": "2023-02-21T22:15:25.21207Z",
          "iopub.execute_input": "2023-02-21T22:15:25.21314Z",
          "iopub.status.idle": "2023-02-21T22:15:25.545889Z",
          "shell.execute_reply.started": "2023-02-21T22:15:25.2131Z",
          "shell.execute_reply": "2023-02-21T22:15:25.54479Z"
        },
        "trusted": true,
        "id": "MHsLHzNmelCC"
      },
      "execution_count": null,
      "outputs": []
    },
    {
      "cell_type": "code",
      "source": [
        "gfdlflorb_col = ['nmme-prate-34w__gfdlflorb','nmme-prate-56w__gfdlflorb','nmme0-prate-34w__gfdlflorb0',\n",
        "                 'nmme0-prate-56w__gfdlflorb0','contest-precip-14d__precip']\n",
        "train_data.groupby(time_m)[gfdlflorb_col].mean().plot(figsize =(15,5))\n",
        "plt.suptitle(\"monthly NMME model precipitation forecasts for gfdlflorb - Mean values for all 514 locations\")\n",
        "plt.title(\"along with Measured Precipitation\")\n",
        "plt.legend(bbox_to_anchor=(1.05, 1.0), loc='upper left')\n",
        "plt.ylabel(\"precipitation\")"
      ],
      "metadata": {
        "execution": {
          "iopub.status.busy": "2023-02-21T22:15:25.547518Z",
          "iopub.execute_input": "2023-02-21T22:15:25.550084Z",
          "iopub.status.idle": "2023-02-21T22:15:25.882393Z",
          "shell.execute_reply.started": "2023-02-21T22:15:25.550038Z",
          "shell.execute_reply": "2023-02-21T22:15:25.88149Z"
        },
        "trusted": true,
        "id": "0ITk4uV4elCC"
      },
      "execution_count": null,
      "outputs": []
    },
    {
      "cell_type": "code",
      "source": [
        "nasa_col = ['nmme-prate-34w__nasa','nmme-prate-56w__nasa','nmme0-prate-34w__nasa0',\n",
        "            'nmme0-prate-56w__nasa0','contest-precip-14d__precip']\n",
        "train_data.groupby(time_m)[nasa_col].mean().plot(figsize =(15,5))\n",
        "plt.suptitle(\"monthly NMME model precipitation forecasts for nasa - Mean values for all 514 locations\")\n",
        "plt.title(\"along with Measured Precipitation\")\n",
        "plt.legend(bbox_to_anchor=(1.05, 1.0), loc='upper left')\n",
        "plt.ylabel(\"precipitation\")"
      ],
      "metadata": {
        "execution": {
          "iopub.status.busy": "2023-02-21T22:15:25.883836Z",
          "iopub.execute_input": "2023-02-21T22:15:25.88434Z",
          "iopub.status.idle": "2023-02-21T22:15:26.199716Z",
          "shell.execute_reply.started": "2023-02-21T22:15:25.8843Z",
          "shell.execute_reply": "2023-02-21T22:15:26.198823Z"
        },
        "trusted": true,
        "id": "fHT4FTZfelCD"
      },
      "execution_count": null,
      "outputs": []
    },
    {
      "cell_type": "code",
      "source": [
        "nmmemean_col = ['nmme-prate-34w__nmmemean','nmme-prate-56w__nmmemean','nmme0-prate-34w__nmme0mean',\n",
        "            'nmme0-prate-56w__nmme0mean','contest-precip-14d__precip']\n",
        "train_data.groupby(time_m)[nmmemean_col].mean().plot(figsize =(15,5))\n",
        "plt.suptitle(\"monthly NMME model precipitation average forecast across those models - Mean values for all 514 locations\")\n",
        "plt.title(\"along with Measured Precipitation\")\n",
        "plt.legend(bbox_to_anchor=(1.05, 1.0), loc='upper left')\n",
        "plt.ylabel(\"precipitation\")"
      ],
      "metadata": {
        "execution": {
          "iopub.status.busy": "2023-02-21T22:15:26.200905Z",
          "iopub.execute_input": "2023-02-21T22:15:26.201617Z",
          "iopub.status.idle": "2023-02-21T22:15:26.524595Z",
          "shell.execute_reply.started": "2023-02-21T22:15:26.201581Z",
          "shell.execute_reply": "2023-02-21T22:15:26.523698Z"
        },
        "trusted": true,
        "id": "EfgJhcQtelCD"
      },
      "execution_count": null,
      "outputs": []
    },
    {
      "cell_type": "markdown",
      "source": [
        "## Madden–Julian oscillation(MJO)"
      ],
      "metadata": {
        "id": "lz7dsA-BelCD"
      }
    },
    {
      "cell_type": "markdown",
      "source": [
        "The Madden–Julian oscillation (MJO) is the largest element of the intraseasonal (30- to 90-day) variability in the tropical atmosphere. It is a large-scale coupling between atmospheric circulation and tropical deep atmospheric convection. Unlike a standing pattern like the El Niño–Southern Oscillation (ENSO), the Madden–Julian oscillation is a traveling pattern that propagates eastward, at approximately 4 to 8 m/s (14 to 29 km/h; 9 to 18 mph), through the atmosphere above the warm parts of the Indian and Pacific oceans. This overall circulation pattern manifests itself most clearly as anomalous rainfall. (Source - Wikipedia)."
      ],
      "metadata": {
        "id": "ZblP8tBhelCD"
      }
    },
    {
      "cell_type": "markdown",
      "source": [
        "There are a number of ways in which the MJO influences world weather: (source - metoffice.gov.uk)\n",
        "\n",
        "* The MJO creates favourable conditions for tropical cyclone activity, which makes the MJO important to monitor during the Atlantic hurricane season.\n",
        "* The enhanced rainfall phase of the MJO can also bring the onset of the Monsoon seasons around the globe. Conversely, the suppressed convection phase can delay the onset of the Monsoon season.\n",
        "* There is evidence that the MJO influences the El Nino Southern Oscillation (ENSO) cycle. It does not cause El Nino or La Nina, but it can contribute to the speed of development and intensity of El Nino and La Nina episodes. The MJO appears to be more active during neutral and weak ENSO years.\n",
        "* There is also evidence to suggest that the MJO can influence the onset of a Sudden Stratospheric Warming (SSW) event."
      ],
      "metadata": {
        "id": "OPir2iJoelCD"
      }
    },
    {
      "cell_type": "code",
      "source": [
        "# Look for any correlation between these interesting variables with Measured Precipitation\n",
        "interesting_subset  = train_data[['mjo1d__phase', 'mjo1d__amplitude', 'mei__mei','mei__meirank','mei__nip', 'contest-pevpr-sfc-gauss-14d__pevpr',\n",
        "                      'contest-wind-h10-14d__wind-hgt-10', 'contest-rhum-sig995-14d__rhum', 'contest-wind-h100-14d__wind-hgt-100',\n",
        "                      'contest-slp-14d__slp', 'contest-wind-vwnd-925-14d__wind-vwnd-925', 'contest-pres-sfc-gauss-14d__pres',\n",
        "                      'contest-wind-uwnd-250-14d__wind-uwnd-250','contest-prwtr-eatm-14d__prwtr', 'contest-wind-vwnd-250-14d__wind-vwnd-250',\n",
        "                      'contest-tmp2m-14d__tmp2m', 'contest-wind-h850-14d__wind-hgt-850', 'contest-wind-uwnd-925-14d__wind-uwnd-925',\n",
        "                      'contest-wind-h500-14d__wind-hgt-500']]\n",
        "corr = interesting_subset.corrwith(train_data['contest-precip-14d__precip']).abs().sort_values(ascending=False)\n",
        "print(corr)"
      ],
      "metadata": {
        "execution": {
          "iopub.status.busy": "2023-02-21T22:15:26.52636Z",
          "iopub.execute_input": "2023-02-21T22:15:26.527066Z",
          "iopub.status.idle": "2023-02-21T22:15:26.625252Z",
          "shell.execute_reply.started": "2023-02-21T22:15:26.527027Z",
          "shell.execute_reply": "2023-02-21T22:15:26.624122Z"
        },
        "trusted": true,
        "id": "DPFwaQKielCD"
      },
      "execution_count": null,
      "outputs": []
    },
    {
      "cell_type": "code",
      "source": [
        "# Look for any correlation between these interesting variables and the target variable (Observed Temperature)\n",
        "interesting_subset  = train_data[['mjo1d__phase', 'mjo1d__amplitude', 'mei__mei','mei__meirank','mei__nip', 'contest-pevpr-sfc-gauss-14d__pevpr',\n",
        "                      'contest-wind-h10-14d__wind-hgt-10', 'contest-rhum-sig995-14d__rhum', 'contest-wind-h100-14d__wind-hgt-100',\n",
        "                      'contest-slp-14d__slp', 'contest-wind-vwnd-925-14d__wind-vwnd-925', 'contest-pres-sfc-gauss-14d__pres',\n",
        "                      'contest-wind-uwnd-250-14d__wind-uwnd-250','contest-prwtr-eatm-14d__prwtr', 'contest-wind-vwnd-250-14d__wind-vwnd-250',\n",
        "                      'contest-precip-14d__precip', 'contest-wind-h850-14d__wind-hgt-850', 'contest-wind-uwnd-925-14d__wind-uwnd-925',\n",
        "                      'contest-wind-h500-14d__wind-hgt-500']]\n",
        "corr = interesting_subset.corrwith(train_data[\"contest-tmp2m-14d__tmp2m\"]).abs().sort_values(ascending=False)\n",
        "print(corr)\n",
        "high_corr = corr.index[corr>0.75]\n",
        "print(high_corr)"
      ],
      "metadata": {
        "execution": {
          "iopub.status.busy": "2023-02-21T22:15:26.627048Z",
          "iopub.execute_input": "2023-02-21T22:15:26.627764Z",
          "iopub.status.idle": "2023-02-21T22:15:26.728038Z",
          "shell.execute_reply.started": "2023-02-21T22:15:26.627693Z",
          "shell.execute_reply": "2023-02-21T22:15:26.726759Z"
        },
        "trusted": true,
        "id": "1VccSIO2elCD"
      },
      "execution_count": null,
      "outputs": []
    },
    {
      "cell_type": "markdown",
      "source": [
        "It shows Madden–Julian oscillation (MJO) amplitude, phase considerably correlated with temperature more than the rainfall in given locations."
      ],
      "metadata": {
        "id": "ksv_kL7-elCE"
      }
    },
    {
      "cell_type": "markdown",
      "source": [
        "(**wind at geopotential height at 100 millibars**)'contest-wind-h100-14d__wind-hgt-100', (**wind at geopotential height at 500 millibars**)'contest-wind-h500-14d__wind-hgt-500', (**pressure**)'contest-pevpr-sfc-gauss-14d__pevpr', (**potential evaporation**)'contest-prwtr-eatm-14d__prwtr' **have very high correlations with the target variable**."
      ],
      "metadata": {
        "id": "YKfbZOoxelCE"
      }
    },
    {
      "cell_type": "code",
      "source": [
        "corr = interesting_subset .corr()\n",
        "plt.figure(figsize=(15, 15))\n",
        "\n",
        "sns.heatmap(corr[(corr >= 0.5) | (corr <= -0.5)],\n",
        "            cmap='viridis', vmax=1.0, vmin=-1.0, linewidths=0.1,\n",
        "            annot=True, annot_kws={\"size\": 8}, square=True);"
      ],
      "metadata": {
        "execution": {
          "iopub.status.busy": "2023-02-21T22:15:26.729796Z",
          "iopub.execute_input": "2023-02-21T22:15:26.730209Z",
          "iopub.status.idle": "2023-02-21T22:15:28.009245Z",
          "shell.execute_reply.started": "2023-02-21T22:15:26.730168Z",
          "shell.execute_reply": "2023-02-21T22:15:28.008167Z"
        },
        "trusted": true,
        "id": "4EnzErGzelCE"
      },
      "execution_count": null,
      "outputs": []
    },
    {
      "cell_type": "markdown",
      "source": [
        "how ever (**wind at geopotential height at 100 millibars**)'contest-wind-h100-14d__wind-hgt-100', (**wind at geopotential height at 500 millibars**)'contest-wind-h500-14d__wind-hgt-500' has a very high correlation between each other. So, it could not be very useful to keep both variables for training our model."
      ],
      "metadata": {
        "id": "Bkumtmb-elCE"
      }
    },
    {
      "cell_type": "code",
      "source": [
        "# Madden-Julian Oscillation (MJO) amplitude, phase and MEI rank, Niño Index Phase\n",
        "for var in [ 'contest-precip-14d__precip','contest-tmp2m-14d__tmp2m','mjo1d__phase', 'mjo1d__amplitude', 'mei__mei','mei__meirank','mei__nip']:\n",
        "    #plot the time series\n",
        "    train_data.groupby(time_m)[[var]].mean().plot(figsize =(15,2))\n",
        "\n",
        "    # add title\n",
        "    plt.title(var)\n",
        "\n",
        "    #the y axis lable\n",
        "    plt.ylabel(var)\n",
        "\n",
        "    plt.show()"
      ],
      "metadata": {
        "_kg_hide-output": true,
        "execution": {
          "iopub.status.busy": "2023-02-21T22:15:28.01104Z",
          "iopub.execute_input": "2023-02-21T22:15:28.011397Z",
          "iopub.status.idle": "2023-02-21T22:15:29.703466Z",
          "shell.execute_reply.started": "2023-02-21T22:15:28.011364Z",
          "shell.execute_reply": "2023-02-21T22:15:29.702539Z"
        },
        "trusted": true,
        "id": "zGoyowwJelCE"
      },
      "execution_count": null,
      "outputs": []
    },
    {
      "cell_type": "markdown",
      "source": [
        "## Climate Regions"
      ],
      "metadata": {
        "id": "4SzVbeJMelCE"
      }
    },
    {
      "cell_type": "markdown",
      "source": [
        "![Koppen_climate_types_USA.jpg](attachment:76f671f2-24c9-4f99-b6bf-ad38a198e561.jpg)\n",
        "\n",
        "Source(Internet)"
      ],
      "metadata": {
        "id": "56yvKNa7elCE"
      }
    },
    {
      "cell_type": "code",
      "source": [
        "climate_regions = np.array(pd.Categorical(train_data['climateregions__climateregion']).categories)\n",
        "climate_regions"
      ],
      "metadata": {
        "execution": {
          "iopub.status.busy": "2023-02-21T22:15:29.704855Z",
          "iopub.execute_input": "2023-02-21T22:15:29.705225Z",
          "iopub.status.idle": "2023-02-21T22:15:29.737468Z",
          "shell.execute_reply.started": "2023-02-21T22:15:29.705188Z",
          "shell.execute_reply": "2023-02-21T22:15:29.736498Z"
        },
        "trusted": true,
        "id": "p2cEtHLyelCE"
      },
      "execution_count": null,
      "outputs": []
    },
    {
      "cell_type": "code",
      "source": [
        "plt.figure(figsize=(15, 5))\n",
        "\n",
        "y1 = train_data['climateregions__climateregion'].value_counts()\n",
        "y2 = test_data['climateregions__climateregion'].value_counts()\n",
        "\n",
        "X_axis = np.arange(len(climate_regions))\n",
        "\n",
        "plt.bar(X_axis - 0.2, y1, 0.4, label = 'train_data')\n",
        "plt.bar(X_axis + 0.2, y2, 0.4, label = 'test_data')\n",
        "\n",
        "plt.xticks(X_axis, climate_regions)\n",
        "plt.xlabel(\"Climate Region\")\n",
        "plt.ylabel(\"Count\")\n",
        "plt.title(\"Climate Regions Data Distribution in in each Dataset\")\n",
        "plt.grid()\n",
        "plt.legend()\n",
        "plt.show()"
      ],
      "metadata": {
        "execution": {
          "iopub.status.busy": "2023-02-21T22:15:29.73873Z",
          "iopub.execute_input": "2023-02-21T22:15:29.739257Z",
          "iopub.status.idle": "2023-02-21T22:15:30.114611Z",
          "shell.execute_reply.started": "2023-02-21T22:15:29.739222Z",
          "shell.execute_reply": "2023-02-21T22:15:30.113697Z"
        },
        "trusted": true,
        "id": "lTDfxrCuelCF"
      },
      "execution_count": null,
      "outputs": []
    },
    {
      "cell_type": "markdown",
      "source": [
        "###  Check the temperature deviations in each climate zone based on the year"
      ],
      "metadata": {
        "id": "pZ37caWaelCF"
      }
    },
    {
      "cell_type": "code",
      "source": [
        "ClimateR_temp = train_data.groupby([train_data.index.year,\n",
        "                                    'climateregions__climateregion']).agg({'contest-tmp2m-14d__tmp2m':[np.min, np.max, np.mean,np.std]})\n",
        "ClimateR_temp.columns = ['Minimum','Maximum','Mean','STD']\n",
        "ClimateR_temp.reset_index(inplace=False)\n",
        "ClimateR_temp"
      ],
      "metadata": {
        "execution": {
          "iopub.status.busy": "2023-02-21T22:15:30.116192Z",
          "iopub.execute_input": "2023-02-21T22:15:30.116538Z",
          "iopub.status.idle": "2023-02-21T22:15:30.21425Z",
          "shell.execute_reply.started": "2023-02-21T22:15:30.116503Z",
          "shell.execute_reply": "2023-02-21T22:15:30.213168Z"
        },
        "trusted": true,
        "id": "Gkpxt_Y4elCF"
      },
      "execution_count": null,
      "outputs": []
    },
    {
      "cell_type": "markdown",
      "source": [
        "**Here I checked the yearly values. In the same way we can check the monthly values. This data will be useful for our predictions. We can roughly conclude the accuracy of our test predictions based on this**"
      ],
      "metadata": {
        "id": "IdybrZy2elCF"
      }
    },
    {
      "cell_type": "markdown",
      "source": [
        "<a id=\"8\"></a> <br>\n",
        "# 8. Train | Validation Split"
      ],
      "metadata": {
        "id": "2R0_00VVelCF"
      }
    },
    {
      "cell_type": "code",
      "source": [
        "train_set = train_data[train_data.index <= '2016-03-31']\n",
        "val_set = train_data[train_data.index > '2016-03-31'] # 2016-03-31\n",
        "train_set.shape, val_set.shape"
      ],
      "metadata": {
        "execution": {
          "iopub.status.busy": "2023-02-21T22:15:30.216026Z",
          "iopub.execute_input": "2023-02-21T22:15:30.216433Z",
          "iopub.status.idle": "2023-02-21T22:15:30.636783Z",
          "shell.execute_reply.started": "2023-02-21T22:15:30.216383Z",
          "shell.execute_reply": "2023-02-21T22:15:30.635802Z"
        },
        "trusted": true,
        "id": "fU7hPPCpelCF"
      },
      "execution_count": null,
      "outputs": []
    },
    {
      "cell_type": "code",
      "source": [
        "X_train = train_set.drop(\"contest-tmp2m-14d__tmp2m\", axis=1).copy(deep=True)\n",
        "y_train = train_set[\"contest-tmp2m-14d__tmp2m\"].copy(deep=True)\n",
        "X_train.shape, y_train.shape"
      ],
      "metadata": {
        "execution": {
          "iopub.status.busy": "2023-02-21T22:15:30.638401Z",
          "iopub.execute_input": "2023-02-21T22:15:30.638798Z",
          "iopub.status.idle": "2023-02-21T22:15:31.031897Z",
          "shell.execute_reply.started": "2023-02-21T22:15:30.638745Z",
          "shell.execute_reply": "2023-02-21T22:15:31.030904Z"
        },
        "trusted": true,
        "id": "i1OAMBt4elCF"
      },
      "execution_count": null,
      "outputs": []
    },
    {
      "cell_type": "code",
      "source": [
        "X_valid = val_set.drop(\"contest-tmp2m-14d__tmp2m\", axis=1).copy(deep=True)\n",
        "y_valid = val_set[\"contest-tmp2m-14d__tmp2m\"].copy(deep=True)\n",
        "X_valid.shape, y_valid.shape"
      ],
      "metadata": {
        "execution": {
          "iopub.status.busy": "2023-02-21T22:15:31.033195Z",
          "iopub.execute_input": "2023-02-21T22:15:31.033642Z",
          "iopub.status.idle": "2023-02-21T22:15:31.146728Z",
          "shell.execute_reply.started": "2023-02-21T22:15:31.033604Z",
          "shell.execute_reply": "2023-02-21T22:15:31.145634Z"
        },
        "trusted": true,
        "id": "i2oO-9PnelCF"
      },
      "execution_count": null,
      "outputs": []
    },
    {
      "cell_type": "code",
      "source": [
        "X_train.head()"
      ],
      "metadata": {
        "_kg_hide-output": true,
        "execution": {
          "iopub.status.busy": "2023-02-21T22:15:31.148348Z",
          "iopub.execute_input": "2023-02-21T22:15:31.148725Z",
          "iopub.status.idle": "2023-02-21T22:15:31.178883Z",
          "shell.execute_reply.started": "2023-02-21T22:15:31.148688Z",
          "shell.execute_reply": "2023-02-21T22:15:31.177805Z"
        },
        "trusted": true,
        "id": "TMKoME_selCF"
      },
      "execution_count": null,
      "outputs": []
    },
    {
      "cell_type": "code",
      "source": [
        "X_valid.head()"
      ],
      "metadata": {
        "_kg_hide-output": true,
        "execution": {
          "iopub.status.busy": "2023-02-21T22:15:31.180225Z",
          "iopub.execute_input": "2023-02-21T22:15:31.181235Z",
          "iopub.status.idle": "2023-02-21T22:15:31.213006Z",
          "shell.execute_reply.started": "2023-02-21T22:15:31.181196Z",
          "shell.execute_reply": "2023-02-21T22:15:31.21178Z"
        },
        "trusted": true,
        "id": "0xMDkTWXelCG"
      },
      "execution_count": null,
      "outputs": []
    },
    {
      "cell_type": "code",
      "source": [
        "X_train.index.min(), X_train.index.max()"
      ],
      "metadata": {
        "execution": {
          "iopub.status.busy": "2023-02-21T22:15:31.214676Z",
          "iopub.execute_input": "2023-02-21T22:15:31.215258Z",
          "iopub.status.idle": "2023-02-21T22:15:31.225868Z",
          "shell.execute_reply.started": "2023-02-21T22:15:31.215222Z",
          "shell.execute_reply": "2023-02-21T22:15:31.224691Z"
        },
        "trusted": true,
        "id": "9X5kJDhcelCG"
      },
      "execution_count": null,
      "outputs": []
    },
    {
      "cell_type": "code",
      "source": [
        "X_valid.index.min(), X_valid.index.max()"
      ],
      "metadata": {
        "execution": {
          "iopub.status.busy": "2023-02-21T22:15:31.227492Z",
          "iopub.execute_input": "2023-02-21T22:15:31.228396Z",
          "iopub.status.idle": "2023-02-21T22:15:31.236501Z",
          "shell.execute_reply.started": "2023-02-21T22:15:31.228352Z",
          "shell.execute_reply": "2023-02-21T22:15:31.235319Z"
        },
        "trusted": true,
        "id": "0fjhMvwYelCG"
      },
      "execution_count": null,
      "outputs": []
    },
    {
      "cell_type": "markdown",
      "source": [
        "## Data Preparation"
      ],
      "metadata": {
        "id": "AHuMbUytelCG"
      }
    },
    {
      "cell_type": "markdown",
      "source": [
        "### Exploring and Handling Categorical Attributes"
      ],
      "metadata": {
        "id": "p4AUYT8QelCG"
      }
    },
    {
      "cell_type": "code",
      "source": [
        "cat_cols = [cname for cname in train_set.columns if train_set[cname].dtype not in ['int64', 'float64']]\n",
        "print(cat_cols)"
      ],
      "metadata": {
        "execution": {
          "iopub.status.busy": "2023-02-21T22:15:31.238344Z",
          "iopub.execute_input": "2023-02-21T22:15:31.239032Z",
          "iopub.status.idle": "2023-02-21T22:15:31.259135Z",
          "shell.execute_reply.started": "2023-02-21T22:15:31.238991Z",
          "shell.execute_reply": "2023-02-21T22:15:31.258026Z"
        },
        "trusted": true,
        "id": "vER_L1VZelCG"
      },
      "execution_count": null,
      "outputs": []
    },
    {
      "cell_type": "code",
      "source": [
        "X_train['climateregions__climateregion'].value_counts()"
      ],
      "metadata": {
        "execution": {
          "iopub.status.busy": "2023-02-21T22:15:31.260721Z",
          "iopub.execute_input": "2023-02-21T22:15:31.261181Z",
          "iopub.status.idle": "2023-02-21T22:15:31.286226Z",
          "shell.execute_reply.started": "2023-02-21T22:15:31.261123Z",
          "shell.execute_reply": "2023-02-21T22:15:31.285055Z"
        },
        "trusted": true,
        "id": "5vzVAPeHelCG"
      },
      "execution_count": null,
      "outputs": []
    },
    {
      "cell_type": "code",
      "source": [
        "test_data['climateregions__climateregion'].value_counts()"
      ],
      "metadata": {
        "execution": {
          "iopub.status.busy": "2023-02-21T22:15:31.287591Z",
          "iopub.execute_input": "2023-02-21T22:15:31.287934Z",
          "iopub.status.idle": "2023-02-21T22:15:31.300697Z",
          "shell.execute_reply.started": "2023-02-21T22:15:31.287901Z",
          "shell.execute_reply": "2023-02-21T22:15:31.29979Z"
        },
        "trusted": true,
        "id": "QeAaPrt5elCG"
      },
      "execution_count": null,
      "outputs": []
    },
    {
      "cell_type": "code",
      "source": [
        "X_train['climateregions__climateregion'].isin(test_data['climateregions__climateregion']).value_counts()"
      ],
      "metadata": {
        "execution": {
          "iopub.status.busy": "2023-02-21T22:15:31.302151Z",
          "iopub.execute_input": "2023-02-21T22:15:31.303322Z",
          "iopub.status.idle": "2023-02-21T22:15:31.324734Z",
          "shell.execute_reply.started": "2023-02-21T22:15:31.303288Z",
          "shell.execute_reply": "2023-02-21T22:15:31.323676Z"
        },
        "trusted": true,
        "id": "FpWzFgO_elCG"
      },
      "execution_count": null,
      "outputs": []
    },
    {
      "cell_type": "markdown",
      "source": [
        "**train_data and test_data have the same climate regions**"
      ],
      "metadata": {
        "id": "4PBpkNbEelCH"
      }
    },
    {
      "cell_type": "code",
      "source": [
        "X_train['location'].value_counts()"
      ],
      "metadata": {
        "execution": {
          "iopub.status.busy": "2023-02-21T22:15:31.327591Z",
          "iopub.execute_input": "2023-02-21T22:15:31.328596Z",
          "iopub.status.idle": "2023-02-21T22:15:31.353538Z",
          "shell.execute_reply.started": "2023-02-21T22:15:31.328562Z",
          "shell.execute_reply": "2023-02-21T22:15:31.352526Z"
        },
        "trusted": true,
        "id": "TQBu_wYLelCH"
      },
      "execution_count": null,
      "outputs": []
    },
    {
      "cell_type": "code",
      "source": [
        "test_data['location'].value_counts()"
      ],
      "metadata": {
        "execution": {
          "iopub.status.busy": "2023-02-21T22:15:31.354973Z",
          "iopub.execute_input": "2023-02-21T22:15:31.355381Z",
          "iopub.status.idle": "2023-02-21T22:15:31.367543Z",
          "shell.execute_reply.started": "2023-02-21T22:15:31.355346Z",
          "shell.execute_reply": "2023-02-21T22:15:31.366235Z"
        },
        "trusted": true,
        "id": "HlH3Vo_melCH"
      },
      "execution_count": null,
      "outputs": []
    },
    {
      "cell_type": "code",
      "source": [
        "X_train['location'].isin(test_data['location']).value_counts()"
      ],
      "metadata": {
        "execution": {
          "iopub.status.busy": "2023-02-21T22:15:31.369277Z",
          "iopub.execute_input": "2023-02-21T22:15:31.369678Z",
          "iopub.status.idle": "2023-02-21T22:15:31.391837Z",
          "shell.execute_reply.started": "2023-02-21T22:15:31.369644Z",
          "shell.execute_reply": "2023-02-21T22:15:31.390524Z"
        },
        "trusted": true,
        "id": "lWM50CEJelCH"
      },
      "execution_count": null,
      "outputs": []
    },
    {
      "cell_type": "markdown",
      "source": [
        "**train_data and test_data have the same locations**"
      ],
      "metadata": {
        "id": "iEdwYJ1ZelCH"
      }
    },
    {
      "cell_type": "code",
      "source": [
        "# encoding Categorical data\n",
        "from sklearn.preprocessing import OrdinalEncoder\n",
        "\n",
        "enc = OrdinalEncoder() # Use ordinal encoder\n",
        "X_train[cat_cols] = enc.fit_transform(X_train[cat_cols] )\n",
        "test_data[cat_cols] = enc.transform(test_data[cat_cols] )"
      ],
      "metadata": {
        "execution": {
          "iopub.status.busy": "2023-02-21T22:15:31.393415Z",
          "iopub.execute_input": "2023-02-21T22:15:31.393808Z",
          "iopub.status.idle": "2023-02-21T22:15:31.565686Z",
          "shell.execute_reply.started": "2023-02-21T22:15:31.393774Z",
          "shell.execute_reply": "2023-02-21T22:15:31.564498Z"
        },
        "trusted": true,
        "id": "3DD-yX-2elCH"
      },
      "execution_count": null,
      "outputs": []
    },
    {
      "cell_type": "markdown",
      "source": [
        "### Feature Selection using the Filter Method"
      ],
      "metadata": {
        "id": "xEbYVxB6elCH"
      }
    },
    {
      "cell_type": "code",
      "source": [
        "# Using Pearson Correlation\n",
        "corr_matrix = X_train.corr().abs()\n",
        "\n",
        "# Select upper triangle of correlation matrix\n",
        "upper_tri = corr_matrix.where(np.triu(np.ones(corr_matrix.shape), k=1).astype(np.bool))"
      ],
      "metadata": {
        "execution": {
          "iopub.status.busy": "2023-02-21T22:15:31.567689Z",
          "iopub.execute_input": "2023-02-21T22:15:31.568193Z",
          "iopub.status.idle": "2023-02-21T22:16:14.880936Z",
          "shell.execute_reply.started": "2023-02-21T22:15:31.568148Z",
          "shell.execute_reply": "2023-02-21T22:16:14.879965Z"
        },
        "trusted": true,
        "id": "_dfu-peVelCH"
      },
      "execution_count": null,
      "outputs": []
    },
    {
      "cell_type": "code",
      "source": [
        "# Find features with correlation greater than 0.95\n",
        "to_drop = [column for column in upper_tri.columns if any(upper_tri[column] >= 0.95)]\n",
        "print(to_drop)"
      ],
      "metadata": {
        "execution": {
          "iopub.status.busy": "2023-02-21T22:16:14.882549Z",
          "iopub.execute_input": "2023-02-21T22:16:14.883033Z",
          "iopub.status.idle": "2023-02-21T22:16:14.927769Z",
          "shell.execute_reply.started": "2023-02-21T22:16:14.882994Z",
          "shell.execute_reply": "2023-02-21T22:16:14.926896Z"
        },
        "trusted": true,
        "id": "sWLi4UFMelCH"
      },
      "execution_count": null,
      "outputs": []
    },
    {
      "cell_type": "code",
      "source": [
        "# Dropped highly correlated features from the dataset\n",
        "X_train = X_train.drop(to_drop, axis=1)\n",
        "X_train.head()"
      ],
      "metadata": {
        "_kg_hide-output": true,
        "execution": {
          "iopub.status.busy": "2023-02-21T22:16:14.929235Z",
          "iopub.execute_input": "2023-02-21T22:16:14.929861Z",
          "iopub.status.idle": "2023-02-21T22:16:15.443598Z",
          "shell.execute_reply.started": "2023-02-21T22:16:14.929825Z",
          "shell.execute_reply": "2023-02-21T22:16:15.442474Z"
        },
        "trusted": true,
        "id": "kSK5wH5SelCH"
      },
      "execution_count": null,
      "outputs": []
    },
    {
      "cell_type": "markdown",
      "source": [
        "### Explore the Numerical Attributes"
      ],
      "metadata": {
        "id": "t5uWUT6MelCI"
      }
    },
    {
      "cell_type": "code",
      "source": [
        "num_cols = [cname for cname in X_train.columns if X_train[cname].dtype in ['int64', 'float64']]\n",
        "\n",
        "not_to_scale = {'climateregions__climateregion'}\n",
        "\n",
        "num_cols = [ele for ele in num_cols if ele not in not_to_scale]\n",
        "data_num = X_train[num_cols]"
      ],
      "metadata": {
        "execution": {
          "iopub.status.busy": "2023-02-21T22:16:15.445182Z",
          "iopub.execute_input": "2023-02-21T22:16:15.446344Z",
          "iopub.status.idle": "2023-02-21T22:16:15.591995Z",
          "shell.execute_reply.started": "2023-02-21T22:16:15.446296Z",
          "shell.execute_reply": "2023-02-21T22:16:15.591006Z"
        },
        "trusted": true,
        "id": "rlnInZwfelCI"
      },
      "execution_count": null,
      "outputs": []
    },
    {
      "cell_type": "code",
      "source": [
        "from sklearn.preprocessing import StandardScaler\n",
        "from sklearn.preprocessing import MinMaxScaler\n",
        "sc = StandardScaler()\n",
        "mmsc = MinMaxScaler()\n",
        "X_train[num_cols] = sc.fit_transform(X_train[num_cols] )"
      ],
      "metadata": {
        "execution": {
          "iopub.status.busy": "2023-02-21T22:16:15.593429Z",
          "iopub.execute_input": "2023-02-21T22:16:15.594049Z",
          "iopub.status.idle": "2023-02-21T22:16:16.804279Z",
          "shell.execute_reply.started": "2023-02-21T22:16:15.594011Z",
          "shell.execute_reply": "2023-02-21T22:16:16.803299Z"
        },
        "trusted": true,
        "id": "Ns3QAKg0elCI"
      },
      "execution_count": null,
      "outputs": []
    },
    {
      "cell_type": "code",
      "source": [
        "X_train"
      ],
      "metadata": {
        "_kg_hide-output": true,
        "execution": {
          "iopub.status.busy": "2023-02-21T22:16:16.805846Z",
          "iopub.execute_input": "2023-02-21T22:16:16.80622Z",
          "iopub.status.idle": "2023-02-21T22:16:16.874379Z",
          "shell.execute_reply.started": "2023-02-21T22:16:16.806183Z",
          "shell.execute_reply": "2023-02-21T22:16:16.8733Z"
        },
        "trusted": true,
        "id": "Oa9K947RelCI"
      },
      "execution_count": null,
      "outputs": []
    },
    {
      "cell_type": "markdown",
      "source": [
        "## Train Dataset"
      ],
      "metadata": {
        "id": "r7Si-SsCelCI"
      }
    },
    {
      "cell_type": "markdown",
      "source": [
        "### Adding Datetime features"
      ],
      "metadata": {
        "id": "2notMH3oelCI"
      }
    },
    {
      "cell_type": "code",
      "source": [
        "dtf = DatetimeFeatures(\n",
        "        # the datetime variable\n",
        "        variables =\"index\",\n",
        "\n",
        "        # The features we want to create\n",
        "        features_to_extract=[\n",
        "            \"year\",\n",
        "            \"month\",\n",
        "        ]\n",
        ")\n",
        "# Extract the datetime features\n",
        "X_train = dtf.fit_transform(X_train)"
      ],
      "metadata": {
        "execution": {
          "iopub.status.busy": "2023-02-21T22:16:16.87615Z",
          "iopub.execute_input": "2023-02-21T22:16:16.876567Z",
          "iopub.status.idle": "2023-02-21T22:16:17.988582Z",
          "shell.execute_reply.started": "2023-02-21T22:16:16.876527Z",
          "shell.execute_reply": "2023-02-21T22:16:17.986233Z"
        },
        "trusted": true,
        "id": "XN3q74jYelCI"
      },
      "execution_count": null,
      "outputs": []
    },
    {
      "cell_type": "markdown",
      "source": [
        "### Adding Periodic Features"
      ],
      "metadata": {
        "id": "WbNmP4iaelCJ"
      }
    },
    {
      "cell_type": "code",
      "source": [
        "# Create features that capture the cyclical representation\n",
        "\n",
        "cyclicf = CyclicalFeatures(\n",
        "            variables = [\"year\", \"month\"],\n",
        "            drop_original = True,\n",
        ")\n",
        "\n",
        "X_train = cyclicf.fit_transform(X_train)\n",
        "X_train[\"season\"] = X_train.index.month%12 // 3 + 1\n",
        "\n",
        "X_train[[ v for v in X_train.columns if \"year\" in v or \"month\" in v]]. head()"
      ],
      "metadata": {
        "execution": {
          "iopub.status.busy": "2023-02-21T22:16:17.990122Z",
          "iopub.execute_input": "2023-02-21T22:16:17.991113Z",
          "iopub.status.idle": "2023-02-21T22:16:19.047918Z",
          "shell.execute_reply.started": "2023-02-21T22:16:17.991072Z",
          "shell.execute_reply": "2023-02-21T22:16:19.046759Z"
        },
        "trusted": true,
        "id": "tSReEG_1elCJ"
      },
      "execution_count": null,
      "outputs": []
    },
    {
      "cell_type": "markdown",
      "source": [
        "### Adding Dummie Variables"
      ],
      "metadata": {
        "id": "eMdTpviUelCJ"
      }
    },
    {
      "cell_type": "code",
      "source": [
        "# Adding Dummie Variables for the season\n",
        "X_train = pd.get_dummies(data=X_train, columns=['season'])"
      ],
      "metadata": {
        "execution": {
          "iopub.status.busy": "2023-02-21T22:16:19.049489Z",
          "iopub.execute_input": "2023-02-21T22:16:19.050255Z",
          "iopub.status.idle": "2023-02-21T22:16:19.379699Z",
          "shell.execute_reply.started": "2023-02-21T22:16:19.050214Z",
          "shell.execute_reply": "2023-02-21T22:16:19.378668Z"
        },
        "trusted": true,
        "id": "h7QKTKgVelCJ"
      },
      "execution_count": null,
      "outputs": []
    },
    {
      "cell_type": "code",
      "source": [
        "# Adding Dummie Variables for the climateregions\n",
        "#X_train = pd.get_dummies(data=X_train, columns=['climateregions__climateregion'])"
      ],
      "metadata": {
        "execution": {
          "iopub.status.busy": "2023-02-21T22:16:19.381399Z",
          "iopub.execute_input": "2023-02-21T22:16:19.381809Z",
          "iopub.status.idle": "2023-02-21T22:16:19.386632Z",
          "shell.execute_reply.started": "2023-02-21T22:16:19.381771Z",
          "shell.execute_reply": "2023-02-21T22:16:19.385254Z"
        },
        "trusted": true,
        "id": "DuQx8mk_elCJ"
      },
      "execution_count": null,
      "outputs": []
    },
    {
      "cell_type": "code",
      "source": [
        "X_train.head()"
      ],
      "metadata": {
        "_kg_hide-output": true,
        "execution": {
          "iopub.status.busy": "2023-02-21T22:16:19.388517Z",
          "iopub.execute_input": "2023-02-21T22:16:19.388922Z",
          "iopub.status.idle": "2023-02-21T22:16:19.418936Z",
          "shell.execute_reply.started": "2023-02-21T22:16:19.388862Z",
          "shell.execute_reply": "2023-02-21T22:16:19.417817Z"
        },
        "trusted": true,
        "id": "lL9Dx9DselCJ"
      },
      "execution_count": null,
      "outputs": []
    },
    {
      "cell_type": "markdown",
      "source": [
        "## Validation Data Preparation"
      ],
      "metadata": {
        "id": "UP0ImnUSelCJ"
      }
    },
    {
      "cell_type": "code",
      "source": [
        "# Get the same shape as train set by dropping the less useful features\n",
        "X_valid = X_valid.drop(to_drop, axis=1)"
      ],
      "metadata": {
        "execution": {
          "iopub.status.busy": "2023-02-21T22:16:19.420831Z",
          "iopub.execute_input": "2023-02-21T22:16:19.421215Z",
          "iopub.status.idle": "2023-02-21T22:16:19.465811Z",
          "shell.execute_reply.started": "2023-02-21T22:16:19.421177Z",
          "shell.execute_reply": "2023-02-21T22:16:19.464448Z"
        },
        "trusted": true,
        "id": "EUG9mrccelCM"
      },
      "execution_count": null,
      "outputs": []
    },
    {
      "cell_type": "code",
      "source": [
        "# encoding Categorical data\n",
        "X_valid[cat_cols] = enc.transform(X_valid[cat_cols] )"
      ],
      "metadata": {
        "execution": {
          "iopub.status.busy": "2023-02-21T22:16:19.467688Z",
          "iopub.execute_input": "2023-02-21T22:16:19.468135Z",
          "iopub.status.idle": "2023-02-21T22:16:19.513687Z",
          "shell.execute_reply.started": "2023-02-21T22:16:19.468094Z",
          "shell.execute_reply": "2023-02-21T22:16:19.512861Z"
        },
        "trusted": true,
        "id": "kn1meMvbelCM"
      },
      "execution_count": null,
      "outputs": []
    },
    {
      "cell_type": "code",
      "source": [
        "val_num_cols = [cname for cname in X_valid.columns if X_valid[cname].dtype in ['int64', 'float64']]\n",
        "\n",
        "not_to_scale = {'climateregions__climateregion'}\n",
        "\n",
        "val_num_cols = [ele for ele in val_num_cols  if ele not in not_to_scale]\n",
        "val_data_num = X_valid[val_num_cols]"
      ],
      "metadata": {
        "execution": {
          "iopub.status.busy": "2023-02-21T22:16:19.514856Z",
          "iopub.execute_input": "2023-02-21T22:16:19.515196Z",
          "iopub.status.idle": "2023-02-21T22:16:19.641769Z",
          "shell.execute_reply.started": "2023-02-21T22:16:19.515162Z",
          "shell.execute_reply": "2023-02-21T22:16:19.640805Z"
        },
        "trusted": true,
        "id": "zvmb2Ov2elCM"
      },
      "execution_count": null,
      "outputs": []
    },
    {
      "cell_type": "code",
      "source": [
        "# Scaling numerical data\n",
        "X_valid[val_num_cols ] = sc.transform(X_valid[val_num_cols] )"
      ],
      "metadata": {
        "execution": {
          "iopub.status.busy": "2023-02-21T22:16:19.64336Z",
          "iopub.execute_input": "2023-02-21T22:16:19.64377Z",
          "iopub.status.idle": "2023-02-21T22:16:19.834877Z",
          "shell.execute_reply.started": "2023-02-21T22:16:19.643717Z",
          "shell.execute_reply": "2023-02-21T22:16:19.833379Z"
        },
        "trusted": true,
        "id": "RjG4aUzEelCM"
      },
      "execution_count": null,
      "outputs": []
    },
    {
      "cell_type": "code",
      "source": [
        "# Extract the datetime features\n",
        "X_valid = dtf.transform(X_valid)"
      ],
      "metadata": {
        "execution": {
          "iopub.status.busy": "2023-02-21T22:16:19.83642Z",
          "iopub.execute_input": "2023-02-21T22:16:19.838033Z",
          "iopub.status.idle": "2023-02-21T22:16:20.036152Z",
          "shell.execute_reply.started": "2023-02-21T22:16:19.837989Z",
          "shell.execute_reply": "2023-02-21T22:16:20.034921Z"
        },
        "trusted": true,
        "id": "Vg9ac9oEelCN"
      },
      "execution_count": null,
      "outputs": []
    },
    {
      "cell_type": "code",
      "source": [
        "# Create features that capture the cyclical representation\n",
        "X_valid = cyclicf.transform(X_valid)\n",
        "X_valid[\"season\"] = X_valid.index.month%12 // 3 + 1\n",
        "\n",
        "X_valid[[ v for v in X_valid.columns if \"year\" in v or \"month\" in v]]. head()"
      ],
      "metadata": {
        "execution": {
          "iopub.status.busy": "2023-02-21T22:16:20.037269Z",
          "iopub.execute_input": "2023-02-21T22:16:20.037628Z",
          "iopub.status.idle": "2023-02-21T22:16:20.280854Z",
          "shell.execute_reply.started": "2023-02-21T22:16:20.03759Z",
          "shell.execute_reply": "2023-02-21T22:16:20.279634Z"
        },
        "trusted": true,
        "id": "L4WCE0PwelCN"
      },
      "execution_count": null,
      "outputs": []
    },
    {
      "cell_type": "code",
      "source": [
        "X_valid.index.min(), X_valid.index.max()"
      ],
      "metadata": {
        "execution": {
          "iopub.status.busy": "2023-02-21T22:16:20.282712Z",
          "iopub.execute_input": "2023-02-21T22:16:20.28349Z",
          "iopub.status.idle": "2023-02-21T22:16:20.293104Z",
          "shell.execute_reply.started": "2023-02-21T22:16:20.283442Z",
          "shell.execute_reply": "2023-02-21T22:16:20.291728Z"
        },
        "trusted": true,
        "id": "Uqivj0FgelCN"
      },
      "execution_count": null,
      "outputs": []
    },
    {
      "cell_type": "markdown",
      "source": [
        "Well, I faced a problem here. My validation dataset does not have data for seasons 1, and season 4. My automatic function did not fulfill my requirement as I wanted. So I just created those variables manually. :)"
      ],
      "metadata": {
        "id": "fCc8xhk8elCN"
      }
    },
    {
      "cell_type": "code",
      "source": [
        "# Adding Dummie Variables for the season\n",
        "X_valid = pd.get_dummies(data=X_valid, columns=['season'])\n",
        "X_valid.insert(loc = len(X_valid.columns)-2, column = 'season_1',value = 0)\n",
        "X_valid['season_4'] = 0"
      ],
      "metadata": {
        "execution": {
          "iopub.status.busy": "2023-02-21T22:16:20.2954Z",
          "iopub.execute_input": "2023-02-21T22:16:20.295868Z",
          "iopub.status.idle": "2023-02-21T22:16:20.39337Z",
          "shell.execute_reply.started": "2023-02-21T22:16:20.295825Z",
          "shell.execute_reply": "2023-02-21T22:16:20.392215Z"
        },
        "trusted": true,
        "id": "ezax6sKKelCN"
      },
      "execution_count": null,
      "outputs": []
    },
    {
      "cell_type": "code",
      "source": [
        "# Adding Dummie Variables for the climateregions\n",
        "# X_valid = pd.get_dummies(data=X_valid, columns=['climateregions__climateregion'])"
      ],
      "metadata": {
        "execution": {
          "iopub.status.busy": "2023-02-21T22:16:20.395977Z",
          "iopub.execute_input": "2023-02-21T22:16:20.396802Z",
          "iopub.status.idle": "2023-02-21T22:16:20.402061Z",
          "shell.execute_reply.started": "2023-02-21T22:16:20.396735Z",
          "shell.execute_reply": "2023-02-21T22:16:20.40051Z"
        },
        "trusted": true,
        "id": "BBeir_GpelCN"
      },
      "execution_count": null,
      "outputs": []
    },
    {
      "cell_type": "code",
      "source": [
        "X_valid.head()"
      ],
      "metadata": {
        "_kg_hide-output": true,
        "execution": {
          "iopub.status.busy": "2023-02-21T22:16:20.403915Z",
          "iopub.execute_input": "2023-02-21T22:16:20.404375Z",
          "iopub.status.idle": "2023-02-21T22:16:20.440186Z",
          "shell.execute_reply.started": "2023-02-21T22:16:20.404333Z",
          "shell.execute_reply": "2023-02-21T22:16:20.438985Z"
        },
        "trusted": true,
        "id": "Siq3bmEBelCN"
      },
      "execution_count": null,
      "outputs": []
    },
    {
      "cell_type": "markdown",
      "source": [
        "## Test Data Preparation"
      ],
      "metadata": {
        "id": "jqPMRmA6elCN"
      }
    },
    {
      "cell_type": "code",
      "source": [
        "test_data = test_data.drop(to_drop, axis=1)"
      ],
      "metadata": {
        "execution": {
          "iopub.status.busy": "2023-02-21T22:16:20.442306Z",
          "iopub.execute_input": "2023-02-21T22:16:20.442766Z",
          "iopub.status.idle": "2023-02-21T22:16:20.501811Z",
          "shell.execute_reply.started": "2023-02-21T22:16:20.442704Z",
          "shell.execute_reply": "2023-02-21T22:16:20.500802Z"
        },
        "trusted": true,
        "id": "BGL5oTUFelCO"
      },
      "execution_count": null,
      "outputs": []
    },
    {
      "cell_type": "code",
      "source": [
        "test_num_cols = [cname for cname in test_data.columns if test_data[cname].dtype in ['int64', 'float64']]\n",
        "\n",
        "not_to_scale = {'climateregions__climateregion'}\n",
        "\n",
        "test_num_cols = [ele for ele in test_num_cols  if ele not in not_to_scale]\n",
        "test_data_num = test_data[test_num_cols]"
      ],
      "metadata": {
        "execution": {
          "iopub.status.busy": "2023-02-21T22:16:20.503379Z",
          "iopub.execute_input": "2023-02-21T22:16:20.503797Z",
          "iopub.status.idle": "2023-02-21T22:16:20.53241Z",
          "shell.execute_reply.started": "2023-02-21T22:16:20.503741Z",
          "shell.execute_reply": "2023-02-21T22:16:20.531291Z"
        },
        "trusted": true,
        "id": "2VHkmSuaelCO"
      },
      "execution_count": null,
      "outputs": []
    },
    {
      "cell_type": "code",
      "source": [
        "test_data[test_num_cols ] = sc.transform(test_data[test_num_cols] )"
      ],
      "metadata": {
        "execution": {
          "iopub.status.busy": "2023-02-21T22:16:20.53407Z",
          "iopub.execute_input": "2023-02-21T22:16:20.534785Z",
          "iopub.status.idle": "2023-02-21T22:16:20.628077Z",
          "shell.execute_reply.started": "2023-02-21T22:16:20.534724Z",
          "shell.execute_reply": "2023-02-21T22:16:20.62684Z"
        },
        "trusted": true,
        "id": "vYV_hZ8velCO"
      },
      "execution_count": null,
      "outputs": []
    },
    {
      "cell_type": "code",
      "source": [
        "test_data = dtf.transform(test_data)"
      ],
      "metadata": {
        "execution": {
          "iopub.status.busy": "2023-02-21T22:16:20.629987Z",
          "iopub.execute_input": "2023-02-21T22:16:20.630493Z",
          "iopub.status.idle": "2023-02-21T22:16:20.718645Z",
          "shell.execute_reply.started": "2023-02-21T22:16:20.630444Z",
          "shell.execute_reply": "2023-02-21T22:16:20.717707Z"
        },
        "trusted": true,
        "id": "tuuKO9pSelCO"
      },
      "execution_count": null,
      "outputs": []
    },
    {
      "cell_type": "code",
      "source": [
        "test_data = cyclicf.transform(test_data)\n",
        "test_data[\"season\"] = test_data.index.month%12 // 3 + 1\n",
        "\n",
        "test_data[[ v for v in test_data.columns if \"year\" in v or \"month\" in v]]. head()"
      ],
      "metadata": {
        "execution": {
          "iopub.status.busy": "2023-02-21T22:16:20.720196Z",
          "iopub.execute_input": "2023-02-21T22:16:20.720594Z",
          "iopub.status.idle": "2023-02-21T22:16:20.807727Z",
          "shell.execute_reply.started": "2023-02-21T22:16:20.720553Z",
          "shell.execute_reply": "2023-02-21T22:16:20.806637Z"
        },
        "trusted": true,
        "id": "dDZdWMgDelCO"
      },
      "execution_count": null,
      "outputs": []
    },
    {
      "cell_type": "code",
      "source": [
        "test_data = pd.get_dummies(data=test_data, columns=['season'])\n",
        "test_data.insert(loc = len(test_data.columns)-1, column = 'season_2',value = 0)\n",
        "test_data.insert(loc = len(test_data.columns)-1, column = 'season_3',value = 0)"
      ],
      "metadata": {
        "execution": {
          "iopub.status.busy": "2023-02-21T22:16:20.809225Z",
          "iopub.execute_input": "2023-02-21T22:16:20.81008Z",
          "iopub.status.idle": "2023-02-21T22:16:20.85679Z",
          "shell.execute_reply.started": "2023-02-21T22:16:20.810038Z",
          "shell.execute_reply": "2023-02-21T22:16:20.855874Z"
        },
        "trusted": true,
        "id": "rxKmAXnqelCO"
      },
      "execution_count": null,
      "outputs": []
    },
    {
      "cell_type": "code",
      "source": [
        "# test_data = pd.get_dummies(data=test_data, columns=['climateregions__climateregion'])"
      ],
      "metadata": {
        "execution": {
          "iopub.status.busy": "2023-02-21T22:16:20.858348Z",
          "iopub.execute_input": "2023-02-21T22:16:20.858777Z",
          "iopub.status.idle": "2023-02-21T22:16:20.863661Z",
          "shell.execute_reply.started": "2023-02-21T22:16:20.858722Z",
          "shell.execute_reply": "2023-02-21T22:16:20.862723Z"
        },
        "trusted": true,
        "id": "DzmyA1PKelCO"
      },
      "execution_count": null,
      "outputs": []
    },
    {
      "cell_type": "code",
      "source": [
        "test_data.head()"
      ],
      "metadata": {
        "_kg_hide-output": true,
        "execution": {
          "iopub.status.busy": "2023-02-21T22:16:20.865158Z",
          "iopub.execute_input": "2023-02-21T22:16:20.866133Z",
          "iopub.status.idle": "2023-02-21T22:16:20.893701Z",
          "shell.execute_reply.started": "2023-02-21T22:16:20.866046Z",
          "shell.execute_reply": "2023-02-21T22:16:20.892811Z"
        },
        "trusted": true,
        "id": "eH5GtQsFelCO"
      },
      "execution_count": null,
      "outputs": []
    },
    {
      "cell_type": "markdown",
      "source": [
        "<a id=\"9\"></a> <br>\n",
        "# 9. Time Series Split for Cross Validation"
      ],
      "metadata": {
        "_kg_hide-input": false,
        "_kg_hide-output": false,
        "id": "WwxMShszelCP"
      }
    },
    {
      "cell_type": "markdown",
      "source": [
        "**Since the dataset is a time-series event log (temperature), I used time-sensitive cross-validation splitter to evaluate the temperature forecasting model as realistically as possible. I used a gap of 3 months between the train and test side of the splits. I also limit the training set size to make the performance of the CV folds more stable**"
      ],
      "metadata": {
        "id": "8cd5jqbRelCP"
      }
    },
    {
      "cell_type": "code",
      "source": [
        "from sklearn.model_selection import TimeSeriesSplit, cross_validate\n",
        "\n",
        "tscv =TimeSeriesSplit(gap=120, max_train_size=10000, n_splits=5, test_size=1000)\n",
        "#for i, (train_index, test_index) in enumerate(tscv.split(X_train, y_train)):\n",
        "    #print(f\"Fold {i}:\")\n",
        "    #print(f\"  Train: index={train_index}\")\n",
        "    #print(f\"  Test:  index={test_index}\")"
      ],
      "metadata": {
        "_kg_hide-input": false,
        "_kg_hide-output": true,
        "execution": {
          "iopub.status.busy": "2023-02-21T22:16:20.895142Z",
          "iopub.execute_input": "2023-02-21T22:16:20.895529Z",
          "iopub.status.idle": "2023-02-21T22:16:20.902258Z",
          "shell.execute_reply.started": "2023-02-21T22:16:20.895494Z",
          "shell.execute_reply": "2023-02-21T22:16:20.901275Z"
        },
        "trusted": true,
        "id": "ctAXcITQelCP"
      },
      "execution_count": null,
      "outputs": []
    },
    {
      "cell_type": "markdown",
      "source": [
        "<a id=\"10\"></a> <br>\n",
        "# 10. Training, Evaluating and Validation"
      ],
      "metadata": {
        "id": "nMWYApR-elCP"
      }
    },
    {
      "cell_type": "code",
      "source": [
        "from sklearn.metrics import mean_squared_error, r2_score, mean_absolute_error"
      ],
      "metadata": {
        "execution": {
          "iopub.status.busy": "2023-02-21T22:16:20.903877Z",
          "iopub.execute_input": "2023-02-21T22:16:20.904498Z",
          "iopub.status.idle": "2023-02-21T22:16:20.912099Z",
          "shell.execute_reply.started": "2023-02-21T22:16:20.904465Z",
          "shell.execute_reply": "2023-02-21T22:16:20.91096Z"
        },
        "trusted": true,
        "id": "nXd3AD7belCP"
      },
      "execution_count": null,
      "outputs": []
    },
    {
      "cell_type": "markdown",
      "source": [
        "## Fixed a Baseline"
      ],
      "metadata": {
        "id": "7zsBZuPPelCP"
      }
    },
    {
      "cell_type": "code",
      "source": [
        "# \"Learn\" the mean from the training data\n",
        "mean_train = np.mean(y_train)\n",
        "# Get predictions on the validation set\n",
        "baseline_predictions = np.ones(y_valid.shape) * mean_train\n",
        "# Compute RMSE and MAE\n",
        "mae_baseline = mean_absolute_error(y_valid, baseline_predictions)\n",
        "rmse_baseline = np.sqrt(mean_squared_error(y_valid, baseline_predictions))\n",
        "print(\"Baseline MAE is {:.2f}\".format(mae_baseline))\n",
        "print(\"Baseline RMSE is {:.2f}\".format(rmse_baseline))"
      ],
      "metadata": {
        "execution": {
          "iopub.status.busy": "2023-02-21T22:16:20.914909Z",
          "iopub.execute_input": "2023-02-21T22:16:20.915372Z",
          "iopub.status.idle": "2023-02-21T22:16:20.927738Z",
          "shell.execute_reply.started": "2023-02-21T22:16:20.915334Z",
          "shell.execute_reply": "2023-02-21T22:16:20.926639Z"
        },
        "trusted": true,
        "id": "nqPTyy7gelCP"
      },
      "execution_count": null,
      "outputs": []
    },
    {
      "cell_type": "markdown",
      "source": [
        "**This scores are what we can achieve with no efforts. Let's see how good my model is.......**"
      ],
      "metadata": {
        "id": "oeBeFsa9elCP"
      }
    },
    {
      "cell_type": "markdown",
      "source": [
        "## Gradient Boosting with Ensemble Learning"
      ],
      "metadata": {
        "id": "7Bv-GETfelCP"
      }
    },
    {
      "cell_type": "markdown",
      "source": [
        "### Histogram-Based Gradient Boosting"
      ],
      "metadata": {
        "id": "Q-ebb5KTelCP"
      }
    },
    {
      "cell_type": "code",
      "source": [
        "# This was not the improved model.\n",
        "from sklearn.experimental import enable_hist_gradient_boosting\n",
        "from sklearn.ensemble import HistGradientBoostingRegressor\n",
        "\n",
        "hgbr = HistGradientBoostingRegressor(loss='squared_error',\n",
        "                                     learning_rate=0.01,\n",
        "                                     max_iter=6000,\n",
        "                                     max_leaf_nodes=31,\n",
        "                                     max_depth=None,\n",
        "                                     min_samples_leaf=20,\n",
        "                                     l2_regularization=1.0,\n",
        "                                     max_bins=255,\n",
        "                                     warm_start=False,\n",
        "                                     early_stopping='auto',\n",
        "                                     scoring='loss',\n",
        "                                     validation_fraction=0.1,\n",
        "                                     n_iter_no_change=10,\n",
        "                                     tol=1e-07,\n",
        "                                     verbose=0,\n",
        "                                     random_state=None)"
      ],
      "metadata": {
        "execution": {
          "iopub.status.busy": "2023-02-21T22:16:20.929253Z",
          "iopub.execute_input": "2023-02-21T22:16:20.930092Z",
          "iopub.status.idle": "2023-02-21T22:16:20.995208Z",
          "shell.execute_reply.started": "2023-02-21T22:16:20.930057Z",
          "shell.execute_reply": "2023-02-21T22:16:20.994343Z"
        },
        "trusted": true,
        "id": "iMp6I-DlelCQ"
      },
      "execution_count": null,
      "outputs": []
    },
    {
      "cell_type": "code",
      "source": [
        "hgbr.fit(X=X_train, y=y_train)"
      ],
      "metadata": {
        "execution": {
          "iopub.status.busy": "2023-02-21T22:16:20.99663Z",
          "iopub.execute_input": "2023-02-21T22:16:20.99716Z",
          "iopub.status.idle": "2023-02-21T22:37:19.697327Z",
          "shell.execute_reply.started": "2023-02-21T22:16:20.997123Z",
          "shell.execute_reply": "2023-02-21T22:37:19.696342Z"
        },
        "trusted": true,
        "id": "SqQqzjS5elCQ"
      },
      "execution_count": null,
      "outputs": []
    },
    {
      "cell_type": "code",
      "source": [
        "train_predictions = hgbr.predict(X_train)"
      ],
      "metadata": {
        "execution": {
          "iopub.status.busy": "2023-02-21T22:37:19.698925Z",
          "iopub.execute_input": "2023-02-21T22:37:19.699295Z",
          "iopub.status.idle": "2023-02-21T22:38:57.233256Z",
          "shell.execute_reply.started": "2023-02-21T22:37:19.69926Z",
          "shell.execute_reply": "2023-02-21T22:38:57.232461Z"
        },
        "trusted": true,
        "id": "5AHg5aClelCQ"
      },
      "execution_count": null,
      "outputs": []
    },
    {
      "cell_type": "code",
      "source": [
        "# Evaluation on Validation dataset\n",
        "train_rmse = np.sqrt(mean_squared_error(y_true=y_train, y_pred=train_predictions))\n",
        "train_r2 = r2_score(y_train, y_pred=train_predictions)\n",
        "print('rmse value for hgbr model is', train_rmse)\n",
        "print('r2 value for hgbr model is', train_r2)"
      ],
      "metadata": {
        "execution": {
          "iopub.status.busy": "2023-02-21T22:38:57.234724Z",
          "iopub.execute_input": "2023-02-21T22:38:57.235403Z",
          "iopub.status.idle": "2023-02-21T22:38:57.247651Z",
          "shell.execute_reply.started": "2023-02-21T22:38:57.235365Z",
          "shell.execute_reply": "2023-02-21T22:38:57.246895Z"
        },
        "trusted": true,
        "id": "N4F3TU0zelCQ"
      },
      "execution_count": null,
      "outputs": []
    },
    {
      "cell_type": "code",
      "source": [
        "hgbr_predictions = hgbr.predict(X_valid)"
      ],
      "metadata": {
        "execution": {
          "iopub.status.busy": "2023-02-21T22:38:57.250486Z",
          "iopub.execute_input": "2023-02-21T22:38:57.251274Z",
          "iopub.status.idle": "2023-02-21T22:39:20.74139Z",
          "shell.execute_reply.started": "2023-02-21T22:38:57.251243Z",
          "shell.execute_reply": "2023-02-21T22:39:20.740495Z"
        },
        "trusted": true,
        "id": "R8bbJtj3elCQ"
      },
      "execution_count": null,
      "outputs": []
    },
    {
      "cell_type": "code",
      "source": [
        "# Evaluation on Validation dataset\n",
        "valid_rmse = np.sqrt(mean_squared_error(y_true=y_valid, y_pred=hgbr_predictions))\n",
        "valid_r2 = r2_score(y_valid, y_pred=hgbr_predictions)\n",
        "print('rmse value for hgbr model is', valid_rmse)\n",
        "print('r2 value for hgbr model is', valid_r2)"
      ],
      "metadata": {
        "execution": {
          "iopub.status.busy": "2023-02-21T22:39:20.745671Z",
          "iopub.execute_input": "2023-02-21T22:39:20.747729Z",
          "iopub.status.idle": "2023-02-21T22:39:20.75838Z",
          "shell.execute_reply.started": "2023-02-21T22:39:20.747691Z",
          "shell.execute_reply": "2023-02-21T22:39:20.75733Z"
        },
        "trusted": true,
        "id": "PoozH3ouelCQ"
      },
      "execution_count": null,
      "outputs": []
    },
    {
      "cell_type": "code",
      "source": [
        "# Cross Validation HistGradientBoostingRegressor\n",
        "def evaluate(model, X, y, cv):\n",
        "    cv_results = cross_validate(\n",
        "        model,\n",
        "        X,\n",
        "        y,\n",
        "        cv=cv,\n",
        "        scoring=[\"neg_mean_absolute_error\", \"neg_root_mean_squared_error\"],\n",
        "    )\n",
        "    mae = -cv_results[\"test_neg_mean_absolute_error\"]\n",
        "    rmse = -cv_results[\"test_neg_root_mean_squared_error\"]\n",
        "    print(\n",
        "        f\"Mean Absolute Error:     {mae.mean():.3f} +/- {mae.std():.3f}\\n\"\n",
        "        f\"Root Mean Squared Error: {rmse.mean():.3f} +/- {rmse.std():.3f}\"\n",
        "    )\n",
        "\n",
        "\n",
        "evaluate(hgbr, X_train, y_train, cv=tscv)"
      ],
      "metadata": {
        "execution": {
          "iopub.status.busy": "2023-02-21T22:39:20.75967Z",
          "iopub.execute_input": "2023-02-21T22:39:20.76069Z",
          "iopub.status.idle": "2023-02-21T22:50:23.430229Z",
          "shell.execute_reply.started": "2023-02-21T22:39:20.760652Z",
          "shell.execute_reply": "2023-02-21T22:50:23.429316Z"
        },
        "trusted": true,
        "id": "kZDGTdy9elCQ"
      },
      "execution_count": null,
      "outputs": []
    },
    {
      "cell_type": "markdown",
      "source": [
        "### XGBoost"
      ],
      "metadata": {
        "id": "yT1wKOj_elCR"
      }
    },
    {
      "cell_type": "code",
      "source": [
        "import xgboost as xgb\n",
        "\n",
        "xgbr = xgb.XGBRegressor(learning_rate = 0.2,\n",
        "                        n_estimators= 8000,\n",
        "                        max_depth= 5,\n",
        "                        subsample= 0.8,\n",
        "                        colsample_bytree= 1,\n",
        "                        gamma= 1,\n",
        "                       )"
      ],
      "metadata": {
        "execution": {
          "iopub.status.busy": "2023-02-21T22:50:23.434096Z",
          "iopub.execute_input": "2023-02-21T22:50:23.434405Z",
          "iopub.status.idle": "2023-02-21T22:50:23.55339Z",
          "shell.execute_reply.started": "2023-02-21T22:50:23.434376Z",
          "shell.execute_reply": "2023-02-21T22:50:23.552397Z"
        },
        "trusted": true,
        "id": "a1aZ8KG3elCR"
      },
      "execution_count": null,
      "outputs": []
    },
    {
      "cell_type": "code",
      "source": [
        "xgbr.fit(X=X_train, y=y_train, early_stopping_rounds=100, eval_set=[(X_valid, y_valid)], verbose=0)"
      ],
      "metadata": {
        "execution": {
          "iopub.status.busy": "2023-02-21T22:50:23.554861Z",
          "iopub.execute_input": "2023-02-21T22:50:23.555244Z",
          "iopub.status.idle": "2023-02-21T23:45:53.13778Z",
          "shell.execute_reply.started": "2023-02-21T22:50:23.555213Z",
          "shell.execute_reply": "2023-02-21T23:45:53.136987Z"
        },
        "trusted": true,
        "id": "g9_3kGYOelCR"
      },
      "execution_count": null,
      "outputs": []
    },
    {
      "cell_type": "code",
      "source": [
        "# Evaluation on Training dataset\n",
        "train_predictions = xgbr.predict(X_train)\n",
        "train_rmse = np.sqrt(mean_squared_error(y_true=y_train, y_pred=train_predictions))\n",
        "train_r2 = r2_score(y_train, y_pred=train_predictions)\n",
        "print('rmse value for xgbr model is', train_rmse)\n",
        "print('r2 value for xgbr model is', train_r2)"
      ],
      "metadata": {
        "execution": {
          "iopub.status.busy": "2023-02-21T23:45:53.139259Z",
          "iopub.execute_input": "2023-02-21T23:45:53.139614Z",
          "iopub.status.idle": "2023-02-21T23:45:59.200052Z",
          "shell.execute_reply.started": "2023-02-21T23:45:53.139578Z",
          "shell.execute_reply": "2023-02-21T23:45:59.199298Z"
        },
        "trusted": true,
        "id": "GWnMRqVWelCR"
      },
      "execution_count": null,
      "outputs": []
    },
    {
      "cell_type": "code",
      "source": [
        "# Evaluation on Validation dataset\n",
        "xgbr_predictions = xgbr.predict(X_valid)\n",
        "valid_rmse = np.sqrt(mean_squared_error(y_true=y_valid, y_pred=xgbr_predictions))\n",
        "valid_r2 = r2_score(y_valid, y_pred=xgbr_predictions)\n",
        "print('rmse value for xgbr model is', valid_rmse)\n",
        "print('r2 value for xgbr model is', valid_r2)"
      ],
      "metadata": {
        "execution": {
          "iopub.status.busy": "2023-02-21T23:45:59.203529Z",
          "iopub.execute_input": "2023-02-21T23:45:59.20436Z",
          "iopub.status.idle": "2023-02-21T23:46:00.754403Z",
          "shell.execute_reply.started": "2023-02-21T23:45:59.204322Z",
          "shell.execute_reply": "2023-02-21T23:46:00.753668Z"
        },
        "trusted": true,
        "id": "csIs8Ri7elCR"
      },
      "execution_count": null,
      "outputs": []
    },
    {
      "cell_type": "code",
      "source": [
        "# Cross Validation XGBoostRegressor\n",
        "def evaluate(model, X, y, cv):\n",
        "    cv_results = cross_validate(\n",
        "        model,\n",
        "        X,\n",
        "        y,\n",
        "        cv=cv,\n",
        "        scoring=[\"neg_mean_absolute_error\", \"neg_root_mean_squared_error\"],\n",
        "    )\n",
        "    mae = -cv_results[\"test_neg_mean_absolute_error\"]\n",
        "    rmse = -cv_results[\"test_neg_root_mean_squared_error\"]\n",
        "    print(\n",
        "        f\"Mean Absolute Error:     {mae.mean():.3f} +/- {mae.std():.3f}\\n\"\n",
        "        f\"Root Mean Squared Error: {rmse.mean():.3f} +/- {rmse.std():.3f}\"\n",
        "    )\n",
        "\n",
        "\n",
        "#evaluate(xgbr, X_train, y_train, cv=tscv)"
      ],
      "metadata": {
        "execution": {
          "iopub.status.busy": "2023-02-21T23:46:00.757786Z",
          "iopub.execute_input": "2023-02-21T23:46:00.759546Z",
          "iopub.status.idle": "2023-02-21T23:46:00.765881Z",
          "shell.execute_reply.started": "2023-02-21T23:46:00.759514Z",
          "shell.execute_reply": "2023-02-21T23:46:00.765008Z"
        },
        "trusted": true,
        "id": "3eTIntm_elCR"
      },
      "execution_count": null,
      "outputs": []
    },
    {
      "cell_type": "markdown",
      "source": [
        "### LightGBM"
      ],
      "metadata": {
        "id": "m2KbV9ZHelCR"
      }
    },
    {
      "cell_type": "code",
      "source": [
        "from lightgbm import LGBMRegressor\n",
        "lgbmr = LGBMRegressor(\n",
        "        objective='regression',\n",
        "        metric='l1',\n",
        "        is_unbalance=True,\n",
        "        bagging_freq=5,\n",
        "        n_estimators=600,\n",
        "        boosting='dart',\n",
        "        num_leaves=28,\n",
        "        max_depth=12,\n",
        "        learning_rate=0.1,\n",
        "        feature_fraction = 0.9,\n",
        "        num_iterations =10000,\n",
        "        subsample=0.2)"
      ],
      "metadata": {
        "execution": {
          "iopub.status.busy": "2023-02-21T23:46:00.767164Z",
          "iopub.execute_input": "2023-02-21T23:46:00.767642Z",
          "iopub.status.idle": "2023-02-21T23:46:01.535999Z",
          "shell.execute_reply.started": "2023-02-21T23:46:00.767605Z",
          "shell.execute_reply": "2023-02-21T23:46:01.535008Z"
        },
        "trusted": true,
        "id": "UeHlcq8SelCR"
      },
      "execution_count": null,
      "outputs": []
    },
    {
      "cell_type": "code",
      "source": [
        "lgbmr.fit(X=X_train, y=y_train, early_stopping_rounds=200, eval_set=[(X_valid, y_valid)], verbose=0)"
      ],
      "metadata": {
        "execution": {
          "iopub.status.busy": "2023-02-21T23:46:01.537428Z",
          "iopub.execute_input": "2023-02-21T23:46:01.537831Z",
          "iopub.status.idle": "2023-02-22T01:16:58.612628Z",
          "shell.execute_reply.started": "2023-02-21T23:46:01.537774Z",
          "shell.execute_reply": "2023-02-22T01:16:58.611706Z"
        },
        "trusted": true,
        "id": "vZD6qaAjelCR"
      },
      "execution_count": null,
      "outputs": []
    },
    {
      "cell_type": "code",
      "source": [
        "# Evaluation on Training dataset\n",
        "train_predictions = lgbmr.predict(X_train)\n",
        "train_rmse = np.sqrt(mean_squared_error(y_true=y_train, y_pred=train_predictions))\n",
        "train_r2 = r2_score(y_train, y_pred=train_predictions)\n",
        "print('rmse value for lgbmr model is', train_rmse)\n",
        "print('r2 value for lgbmr model is', train_r2)"
      ],
      "metadata": {
        "execution": {
          "iopub.status.busy": "2023-02-22T01:39:50.297425Z",
          "iopub.execute_input": "2023-02-22T01:39:50.2983Z",
          "iopub.status.idle": "2023-02-22T01:39:50.400495Z",
          "shell.execute_reply.started": "2023-02-22T01:39:50.298177Z",
          "shell.execute_reply": "2023-02-22T01:39:50.398081Z"
        },
        "trusted": true,
        "id": "BPPQJ9UvelCS"
      },
      "execution_count": null,
      "outputs": []
    },
    {
      "cell_type": "code",
      "source": [
        "# Evaluation on Validation dataset\n",
        "lgbmr_predictions = lgbmr.predict(X_valid)\n",
        "valid_rmse = np.sqrt(mean_squared_error(y_true=y_valid, y_pred=lgbmr_predictions))\n",
        "valid_r2 = r2_score(y_valid, y_pred=lgbmr_predictions)\n",
        "print('rmse value for lgbmr model is', valid_rmse)\n",
        "print('r2 value for lgbmr model is', valid_r2)"
      ],
      "metadata": {
        "trusted": true,
        "id": "vlOsvJQoelCS"
      },
      "execution_count": null,
      "outputs": []
    },
    {
      "cell_type": "code",
      "source": [
        "# Cross Validation LightGBMRegressor\n",
        "def evaluate(model, X, y, cv):\n",
        "    cv_results = cross_validate(\n",
        "        model,\n",
        "        X,\n",
        "        y,\n",
        "        cv=cv,\n",
        "        scoring=[\"neg_mean_absolute_error\", \"neg_root_mean_squared_error\"],\n",
        "    )\n",
        "    mae = -cv_results[\"test_neg_mean_absolute_error\"]\n",
        "    rmse = -cv_results[\"test_neg_root_mean_squared_error\"]\n",
        "    print(\n",
        "        f\"Mean Absolute Error:     {mae.mean():.3f} +/- {mae.std():.3f}\\n\"\n",
        "        f\"Root Mean Squared Error: {rmse.mean():.3f} +/- {rmse.std():.3f}\"\n",
        "    )\n",
        "\n",
        "\n",
        "#evaluate(lgbmr, X_train, y_train, cv=tscv)"
      ],
      "metadata": {
        "trusted": true,
        "id": "jw-YSXFielCS"
      },
      "execution_count": null,
      "outputs": []
    },
    {
      "cell_type": "code",
      "source": [
        "last_month = slice(-30, None)\n",
        "fig, ax = plt.subplots(figsize=(12, 4))\n",
        "fig.suptitle(\"Predictions for the last 30 days period\")\n",
        "ax.plot(\n",
        "    y_valid.values[last_month],\n",
        "    \"x-\",\n",
        "    alpha=0.2,\n",
        "    label=\"Actual temp\",\n",
        "    color=\"black\",\n",
        ")\n",
        "ax.plot(hgbr_predictions[last_month], \"x-\", label=\"hgbr-predictions\")\n",
        "ax.plot(xgbr_predictions[last_month], \"x-\", label=\"xgbr-predictions\")\n",
        "ax.plot(lgbmr_predictions[last_month], \"x-\", label=\"lgbmr-predictions\")\n",
        "_ = ax.legend()"
      ],
      "metadata": {
        "trusted": true,
        "id": "FlvXyB3velCS"
      },
      "execution_count": null,
      "outputs": []
    },
    {
      "cell_type": "code",
      "source": [
        "test_predictions = lgbmr.predict(test_data)"
      ],
      "metadata": {
        "trusted": true,
        "id": "1rx4yaprelCS",
        "outputId": "76911922-19ba-425d-c0a7-59a553a263e6",
        "colab": {
          "base_uri": "https://localhost:8080/",
          "height": 141
        }
      },
      "execution_count": null,
      "outputs": [
        {
          "output_type": "error",
          "ename": "NameError",
          "evalue": "name 'lgbmr' is not defined",
          "traceback": [
            "\u001b[0;31m---------------------------------------------------------------------------\u001b[0m",
            "\u001b[0;31mNameError\u001b[0m                                 Traceback (most recent call last)",
            "\u001b[0;32m<ipython-input-1-5d3dd01c2b33>\u001b[0m in \u001b[0;36m<cell line: 1>\u001b[0;34m()\u001b[0m\n\u001b[0;32m----> 1\u001b[0;31m \u001b[0mtest_predictions\u001b[0m \u001b[0;34m=\u001b[0m \u001b[0mlgbmr\u001b[0m\u001b[0;34m.\u001b[0m\u001b[0mpredict\u001b[0m\u001b[0;34m(\u001b[0m\u001b[0mtest_data\u001b[0m\u001b[0;34m)\u001b[0m\u001b[0;34m\u001b[0m\u001b[0;34m\u001b[0m\u001b[0m\n\u001b[0m",
            "\u001b[0;31mNameError\u001b[0m: name 'lgbmr' is not defined"
          ]
        }
      ]
    },
    {
      "cell_type": "code",
      "source": [
        "submit['contest-tmp2m-14d__tmp2m'] = test_predictions\n",
        "submit.to_csv('submission_lgmbr.csv' ,index = False)"
      ],
      "metadata": {
        "trusted": true,
        "id": "SK8JPgDielCS"
      },
      "execution_count": null,
      "outputs": []
    },
    {
      "cell_type": "code",
      "source": [],
      "metadata": {
        "id": "rYm7Nuk5elCS"
      },
      "execution_count": null,
      "outputs": []
    }
  ]
}